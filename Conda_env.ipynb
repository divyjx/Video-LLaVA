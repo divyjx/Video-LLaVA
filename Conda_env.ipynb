{
 "cells": [
  {
   "cell_type": "code",
   "execution_count": null,
   "id": "3d86a3c1",
   "metadata": {},
   "outputs": [],
   "source": [
    "!git clone https://github.com/divyjx/Video-LLaVA\n",
    "%cd Video-LLaVA"
   ]
  },
  {
   "cell_type": "code",
   "execution_count": 1,
   "id": "4ef4ebfe-1aa2-453d-bdef-315220994943",
   "metadata": {},
   "outputs": [
    {
     "name": "stdout",
     "output_type": "stream",
     "text": [
      "--2023-12-14 19:48:03--  https://repo.anaconda.com/miniconda/Miniconda3-latest-Linux-x86_64.sh\n",
      "Resolving repo.anaconda.com (repo.anaconda.com)... 104.16.131.3, 104.16.130.3, 2606:4700::6810:8303, ...\n",
      "Connecting to repo.anaconda.com (repo.anaconda.com)|104.16.131.3|:443... connected.\n",
      "HTTP request sent, awaiting response... 200 OK\n",
      "Length: 120986213 (115M) [application/x-sh]\n",
      "Saving to: ‘Miniconda3-latest-Linux-x86_64.sh’\n",
      "\n",
      "Miniconda3-latest-L 100%[===================>] 115.38M  93.8MB/s    in 1.2s    \n",
      "\n",
      "2023-12-14 19:48:04 (93.8 MB/s) - ‘Miniconda3-latest-Linux-x86_64.sh’ saved [120986213/120986213]\n",
      "\n",
      "PREFIX=/usr/local\n",
      "Unpacking payload ...\n",
      "                                                                                \n",
      "Installing base environment...\n",
      "\n",
      "\n",
      "Downloading and Extracting Packages\n",
      "\n",
      "\n",
      "Downloading and Extracting Packages\n",
      "\n",
      "Preparing transaction: done\n",
      "Executing transaction: done\n",
      "installation finished.\n"
     ]
    }
   ],
   "source": [
    "!wget https://repo.anaconda.com/miniconda/Miniconda3-latest-Linux-x86_64.sh\n",
    "!chmod +x ./Miniconda3-latest-Linux-x86_64.sh\n",
    "!bash ./Miniconda3-latest-Linux-x86_64.sh -b -f -p /usr/local\n",
    "!rm ./Miniconda3-latest-Linux-x86_64.sh"
   ]
  },
  {
   "cell_type": "code",
   "execution_count": 2,
   "id": "6432f09b-819a-413f-acd4-178769fb4a9d",
   "metadata": {},
   "outputs": [
    {
     "name": "stdout",
     "output_type": "stream",
     "text": [
      "Channels:\n",
      " - defaults\n",
      "Platform: linux-64\n",
      "Collecting package metadata (repodata.json): done\n",
      "Solving environment: done\n",
      "\n",
      "## Package Plan ##\n",
      "\n",
      "  environment location: /usr/local/envs/videollava\n",
      "\n",
      "  added / updated specs:\n",
      "    - python=3.10\n",
      "\n",
      "\n",
      "The following packages will be downloaded:\n",
      "\n",
      "    package                    |            build\n",
      "    ---------------------------|-----------------\n",
      "    pip-23.3.1                 |  py310h06a4308_0         2.7 MB\n",
      "    python-3.10.13             |       h955ad1f_0        26.8 MB\n",
      "    setuptools-68.2.2          |  py310h06a4308_0         957 KB\n",
      "    wheel-0.41.2               |  py310h06a4308_0         109 KB\n",
      "    xz-5.4.5                   |       h5eee18b_0         646 KB\n",
      "    ------------------------------------------------------------\n",
      "                                           Total:        31.1 MB\n",
      "\n",
      "The following NEW packages will be INSTALLED:\n",
      "\n",
      "  _libgcc_mutex      pkgs/main/linux-64::_libgcc_mutex-0.1-main \n",
      "  _openmp_mutex      pkgs/main/linux-64::_openmp_mutex-5.1-1_gnu \n",
      "  bzip2              pkgs/main/linux-64::bzip2-1.0.8-h7b6447c_0 \n",
      "  ca-certificates    pkgs/main/linux-64::ca-certificates-2023.08.22-h06a4308_0 \n",
      "  ld_impl_linux-64   pkgs/main/linux-64::ld_impl_linux-64-2.38-h1181459_1 \n",
      "  libffi             pkgs/main/linux-64::libffi-3.4.4-h6a678d5_0 \n",
      "  libgcc-ng          pkgs/main/linux-64::libgcc-ng-11.2.0-h1234567_1 \n",
      "  libgomp            pkgs/main/linux-64::libgomp-11.2.0-h1234567_1 \n",
      "  libstdcxx-ng       pkgs/main/linux-64::libstdcxx-ng-11.2.0-h1234567_1 \n",
      "  libuuid            pkgs/main/linux-64::libuuid-1.41.5-h5eee18b_0 \n",
      "  ncurses            pkgs/main/linux-64::ncurses-6.4-h6a678d5_0 \n",
      "  openssl            pkgs/main/linux-64::openssl-3.0.12-h7f8727e_0 \n",
      "  pip                pkgs/main/linux-64::pip-23.3.1-py310h06a4308_0 \n",
      "  python             pkgs/main/linux-64::python-3.10.13-h955ad1f_0 \n",
      "  readline           pkgs/main/linux-64::readline-8.2-h5eee18b_0 \n",
      "  setuptools         pkgs/main/linux-64::setuptools-68.2.2-py310h06a4308_0 \n",
      "  sqlite             pkgs/main/linux-64::sqlite-3.41.2-h5eee18b_0 \n",
      "  tk                 pkgs/main/linux-64::tk-8.6.12-h1ccaba5_0 \n",
      "  tzdata             pkgs/main/noarch::tzdata-2023c-h04d1e81_0 \n",
      "  wheel              pkgs/main/linux-64::wheel-0.41.2-py310h06a4308_0 \n",
      "  xz                 pkgs/main/linux-64::xz-5.4.5-h5eee18b_0 \n",
      "  zlib               pkgs/main/linux-64::zlib-1.2.13-h5eee18b_0 \n",
      "\n",
      "\n",
      "\n",
      "Downloading and Extracting Packages:\n",
      "python-3.10.13       | 26.8 MB   |                                       |   0% \n",
      "pip-23.3.1           | 2.7 MB    |                                       |   0% \u001b[A\n",
      "\n",
      "setuptools-68.2.2    | 957 KB    |                                       |   0% \u001b[A\u001b[A\n",
      "\n",
      "\n",
      "xz-5.4.5             | 646 KB    |                                       |   0% \u001b[A\u001b[A\u001b[A\n",
      "\n",
      "\n",
      "\n",
      "python-3.10.13       | 26.8 MB   |                                       |   0% \u001b[A\u001b[A\u001b[A\u001b[A\n",
      "\n",
      "\n",
      "\n",
      "wheel-0.41.2         | 109 KB    | #####4                                |  15% \u001b[A\u001b[A\u001b[A\u001b[A\n",
      "pip-23.3.1           | 2.7 MB    | 2                                     |   1% \u001b[A\n",
      "\n",
      "setuptools-68.2.2    | 957 KB    | 6                                     |   2% \u001b[A\u001b[A\n",
      "\n",
      "\n",
      "xz-5.4.5             | 646 KB    | 9                                     |   2% \u001b[A\u001b[A\u001b[A\n",
      "\n",
      "\n",
      "\n",
      "python-3.10.13       | 26.8 MB   | ######4                               |  18% \u001b[A\u001b[A\u001b[A\u001b[A\n",
      "python-3.10.13       | 26.8 MB   | ###########################4          |  74% \u001b[A\n",
      "\n",
      "\n",
      "xz-5.4.5             | 646 KB    | ##################################### | 100% \u001b[A\u001b[A\u001b[A\n",
      "\n",
      "\n",
      "python-3.10.13       | 26.8 MB   | ###################################9  |  97% \u001b[A\u001b[A\u001b[A\n",
      "\n",
      "setuptools-68.2.2    | 957 KB    | ##################################### | 100% \u001b[A\u001b[A\n",
      "\n",
      "setuptools-68.2.2    | 957 KB    | ##################################### | 100% \u001b[A\u001b[A\n",
      "pip-23.3.1           | 2.7 MB    | ##################################### | 100% \u001b[A\n",
      "                                                                                \u001b[A\n",
      "                                                                                \u001b[A\n",
      "\n",
      "                                                                                \u001b[A\u001b[A\n",
      "\n",
      "\n",
      "                                                                                \u001b[A\u001b[A\u001b[A\n",
      "\n",
      "\n",
      "\n",
      "                                                                                \u001b[A\u001b[A\u001b[A\u001b[A\n",
      "Preparing transaction: done\n",
      "Verifying transaction: done\n",
      "Executing transaction: done\n",
      "#\n",
      "# To activate this environment, use\n",
      "#\n",
      "#     $ conda activate videollava\n",
      "#\n",
      "# To deactivate an active environment, use\n",
      "#\n",
      "#     $ conda deactivate\n",
      "\n"
     ]
    }
   ],
   "source": [
    "!conda create -n videollava python=3.10 -y"
   ]
  },
  {
   "cell_type": "code",
   "execution_count": 5,
   "id": "877f85e7-3c91-4f94-a5ea-f2046c9c9efe",
   "metadata": {},
   "outputs": [
    {
     "name": "stdout",
     "output_type": "stream",
     "text": [
      "Channels:\n",
      " - defaults\n",
      "Platform: linux-64\n",
      "Collecting package metadata (repodata.json): done\n",
      "Solving environment: done\n",
      "\n",
      "# All requested packages already installed.\n",
      "\n"
     ]
    }
   ],
   "source": [
    "!conda install ipykernel -y"
   ]
  },
  {
   "cell_type": "code",
   "execution_count": 6,
   "id": "7a115264-c6c6-487c-8979-7346f856f29c",
   "metadata": {},
   "outputs": [
    {
     "name": "stdout",
     "output_type": "stream",
     "text": [
      "0.00s - Debugger warning: It seems that frozen modules are being used, which may\n",
      "0.00s - make the debugger miss breakpoints. Please pass -Xfrozen_modules=off\n",
      "0.00s - to python to disable frozen modules.\n",
      "0.00s - Note: Debugging will proceed. Set PYDEVD_DISABLE_FILE_VALIDATION=1 to disable this validation.\n",
      "Installed kernelspec videollava in /root/.local/share/jupyter/kernels/videollava\n"
     ]
    }
   ],
   "source": [
    "!python -m ipykernel install --user --name=videollava"
   ]
  }
 ],
 "metadata": {
  "kernelspec": {
   "display_name": "Python 3 (ipykernel)",
   "language": "python",
   "name": "python3"
  },
  "language_info": {
   "codemirror_mode": {
    "name": "ipython",
    "version": 3
   },
   "file_extension": ".py",
   "mimetype": "text/x-python",
   "name": "python",
   "nbconvert_exporter": "python",
   "pygments_lexer": "ipython3",
   "version": "3.10.12"
  }
 },
 "nbformat": 4,
 "nbformat_minor": 5
}
