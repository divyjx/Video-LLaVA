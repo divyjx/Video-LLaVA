{
  "cells": [
    {
      "cell_type": "code",
      "execution_count": null,
      "metadata": {
        "id": "-2eAF1p2xkUy"
      },
      "outputs": [],
      "source": [
        "from IPython.display import HTML, display\n",
        "\n",
        "def set_css():\n",
        "  display(HTML('''\n",
        "  <style>\n",
        "    pre {\n",
        "        white-space: pre-wrap;\n",
        "    }\n",
        "  </style>\n",
        "  '''))\n",
        "get_ipython().events.register('pre_run_cell', set_css)"
      ]
    },
    {
      "cell_type": "markdown",
      "metadata": {
        "id": "bINaTbXt0WNk"
      },
      "source": [
        "#DATASET PREPERATION"
      ]
    },
    {
      "cell_type": "code",
      "execution_count": null,
      "metadata": {
        "colab": {
          "base_uri": "https://localhost:8080/",
          "height": 989
        },
        "id": "nkJxw-JJM5FI",
        "outputId": "4fa5301c-3074-45b4-e304-9a6e776aa45b"
      },
      "outputs": [
        {
          "data": {
            "text/html": [
              "\n",
              "  <style>\n",
              "    pre {\n",
              "        white-space: pre-wrap;\n",
              "    }\n",
              "  </style>\n",
              "  "
            ],
            "text/plain": [
              "<IPython.core.display.HTML object>"
            ]
          },
          "metadata": {},
          "output_type": "display_data"
        },
        {
          "name": "stdout",
          "output_type": "stream",
          "text": [
            "Requirement already satisfied: pandas in /usr/local/lib/python3.10/dist-packages (1.5.3)\n",
            "Requirement already satisfied: python-dateutil>=2.8.1 in /usr/local/lib/python3.10/dist-packages (from pandas) (2.8.2)\n",
            "Requirement already satisfied: pytz>=2020.1 in /usr/local/lib/python3.10/dist-packages (from pandas) (2023.3.post1)\n",
            "Requirement already satisfied: numpy>=1.21.0 in /usr/local/lib/python3.10/dist-packages (from pandas) (1.23.5)\n",
            "Requirement already satisfied: six>=1.5 in /usr/local/lib/python3.10/dist-packages (from python-dateutil>=2.8.1->pandas) (1.16.0)\n",
            "Requirement already satisfied: xlrd==1.2.0 in /usr/local/lib/python3.10/dist-packages (1.2.0)\n",
            "\u001b[31mERROR: Could not find a version that satisfies the requirement json (from versions: none)\u001b[0m\u001b[31m\n",
            "\u001b[0m\u001b[31mERROR: No matching distribution found for json\u001b[0m\u001b[31m\n",
            "\u001b[0m\u001b[31mERROR: Could not find a version that satisfies the requirement re (from versions: none)\u001b[0m\u001b[31m\n",
            "\u001b[0m\u001b[31mERROR: No matching distribution found for re\u001b[0m\u001b[31m\n",
            "\u001b[0mRequirement already satisfied: requests in /usr/local/lib/python3.10/dist-packages (2.31.0)\n",
            "Requirement already satisfied: charset-normalizer<4,>=2 in /usr/local/lib/python3.10/dist-packages (from requests) (3.3.2)\n",
            "Requirement already satisfied: idna<4,>=2.5 in /usr/local/lib/python3.10/dist-packages (from requests) (3.6)\n",
            "Requirement already satisfied: urllib3<3,>=1.21.1 in /usr/local/lib/python3.10/dist-packages (from requests) (2.0.7)\n",
            "Requirement already satisfied: certifi>=2017.4.17 in /usr/local/lib/python3.10/dist-packages (from requests) (2023.11.17)\n",
            "Requirement already satisfied: gdown in /usr/local/lib/python3.10/dist-packages (4.6.6)\n",
            "Requirement already satisfied: filelock in /usr/local/lib/python3.10/dist-packages (from gdown) (3.13.1)\n",
            "Requirement already satisfied: requests[socks] in /usr/local/lib/python3.10/dist-packages (from gdown) (2.31.0)\n",
            "Requirement already satisfied: six in /usr/local/lib/python3.10/dist-packages (from gdown) (1.16.0)\n",
            "Requirement already satisfied: tqdm in /usr/local/lib/python3.10/dist-packages (from gdown) (4.66.1)\n",
            "Requirement already satisfied: beautifulsoup4 in /usr/local/lib/python3.10/dist-packages (from gdown) (4.11.2)\n",
            "Requirement already satisfied: soupsieve>1.2 in /usr/local/lib/python3.10/dist-packages (from beautifulsoup4->gdown) (2.5)\n",
            "Requirement already satisfied: charset-normalizer<4,>=2 in /usr/local/lib/python3.10/dist-packages (from requests[socks]->gdown) (3.3.2)\n",
            "Requirement already satisfied: idna<4,>=2.5 in /usr/local/lib/python3.10/dist-packages (from requests[socks]->gdown) (3.6)\n",
            "Requirement already satisfied: urllib3<3,>=1.21.1 in /usr/local/lib/python3.10/dist-packages (from requests[socks]->gdown) (2.0.7)\n",
            "Requirement already satisfied: certifi>=2017.4.17 in /usr/local/lib/python3.10/dist-packages (from requests[socks]->gdown) (2023.11.17)\n",
            "Requirement already satisfied: PySocks!=1.5.7,>=1.5.6 in /usr/local/lib/python3.10/dist-packages (from requests[socks]->gdown) (1.7.1)\n",
            "Collecting emoji\n",
            "  Downloading emoji-2.9.0-py2.py3-none-any.whl (397 kB)\n",
            "\u001b[2K     \u001b[90m━━━━━━━━━━━━━━━━━━━━━━━━━━━━━━━━━━━━━━━━\u001b[0m \u001b[32m397.5/397.5 kB\u001b[0m \u001b[31m6.2 MB/s\u001b[0m eta \u001b[36m0:00:00\u001b[0m\n",
            "\u001b[?25hInstalling collected packages: emoji\n",
            "Successfully installed emoji-2.9.0\n",
            "Collecting clean-text[gpl]\n",
            "  Downloading clean_text-0.6.0-py3-none-any.whl (11 kB)\n",
            "Collecting emoji<2.0.0,>=1.0.0 (from clean-text[gpl])\n",
            "  Downloading emoji-1.7.0.tar.gz (175 kB)\n",
            "\u001b[2K     \u001b[90m━━━━━━━━━━━━━━━━━━━━━━━━━━━━━━━━━━━━━━━━\u001b[0m \u001b[32m175.4/175.4 kB\u001b[0m \u001b[31m3.0 MB/s\u001b[0m eta \u001b[36m0:00:00\u001b[0m\n",
            "\u001b[?25h  Preparing metadata (setup.py) ... \u001b[?25l\u001b[?25hdone\n",
            "Collecting ftfy<7.0,>=6.0 (from clean-text[gpl])\n",
            "  Downloading ftfy-6.1.3-py3-none-any.whl (53 kB)\n",
            "\u001b[2K     \u001b[90m━━━━━━━━━━━━━━━━━━━━━━━━━━━━━━━━━━━━━━━━\u001b[0m \u001b[32m53.4/53.4 kB\u001b[0m \u001b[31m5.5 MB/s\u001b[0m eta \u001b[36m0:00:00\u001b[0m\n",
            "\u001b[?25hCollecting unidecode<2.0.0,>=1.1.1 (from clean-text[gpl])\n",
            "  Downloading Unidecode-1.3.7-py3-none-any.whl (235 kB)\n",
            "\u001b[2K     \u001b[90m━━━━━━━━━━━━━━━━━━━━━━━━━━━━━━━━━━━━━━━━\u001b[0m \u001b[32m235.5/235.5 kB\u001b[0m \u001b[31m8.3 MB/s\u001b[0m eta \u001b[36m0:00:00\u001b[0m\n",
            "\u001b[?25hRequirement already satisfied: wcwidth<0.3.0,>=0.2.12 in /usr/local/lib/python3.10/dist-packages (from ftfy<7.0,>=6.0->clean-text[gpl]) (0.2.12)\n",
            "Building wheels for collected packages: emoji\n",
            "  Building wheel for emoji (setup.py) ... \u001b[?25l\u001b[?25hdone\n",
            "  Created wheel for emoji: filename=emoji-1.7.0-py3-none-any.whl size=171033 sha256=60d0563ef0376039e4c6f40333264a344e07e374a3126b62e897e3ddc1c5402e\n",
            "  Stored in directory: /root/.cache/pip/wheels/31/8a/8c/315c9e5d7773f74b33d5ed33f075b49c6eaeb7cedbb86e2cf8\n",
            "Successfully built emoji\n",
            "Installing collected packages: emoji, unidecode, ftfy, clean-text\n",
            "  Attempting uninstall: emoji\n",
            "    Found existing installation: emoji 2.9.0\n",
            "    Uninstalling emoji-2.9.0:\n",
            "      Successfully uninstalled emoji-2.9.0\n",
            "Successfully installed clean-text-0.6.0 emoji-1.7.0 ftfy-6.1.3 unidecode-1.3.7\n"
          ]
        }
      ],
      "source": [
        "!pip install pandas\n",
        "!pip install xlrd==1.2.0\n",
        "!pip install json\n",
        "!pip install re\n",
        "!pip install requests\n",
        "!pip install gdown\n",
        "!pip install emoji\n",
        "!pip install clean-text[gpl]"
      ]
    },
    {
      "cell_type": "code",
      "execution_count": null,
      "metadata": {
        "colab": {
          "base_uri": "https://localhost:8080/",
          "height": 17
        },
        "id": "qyPfFxDA_gxi",
        "outputId": "3a0cfbf5-79b5-4390-9646-5058362a3ac8"
      },
      "outputs": [
        {
          "data": {
            "text/html": [
              "\n",
              "  <style>\n",
              "    pre {\n",
              "        white-space: pre-wrap;\n",
              "    }\n",
              "  </style>\n",
              "  "
            ],
            "text/plain": [
              "<IPython.core.display.HTML object>"
            ]
          },
          "metadata": {},
          "output_type": "display_data"
        }
      ],
      "source": [
        "import pandas as pd\n",
        "import json\n",
        "import requests\n",
        "import re\n",
        "from cleantext import clean"
      ]
    },
    {
      "cell_type": "code",
      "execution_count": null,
      "metadata": {
        "colab": {
          "base_uri": "https://localhost:8080/"
        },
        "id": "fv9eY_xQ1jv6",
        "outputId": "c6e2050b-31e9-4fe7-8ab3-c3569305bf7f"
      },
      "outputs": [
        {
          "name": "stdout",
          "output_type": "stream",
          "text": [
            "Downloading...\n",
            "From: https://drive.google.com/u/0/uc?id=1JcESl7qCCBvS6xpWMZplhCXunvmkcNU_\n",
            "To: /content/behaviour_simulation_train.xlsx\n",
            "100% 56.2M/56.2M [00:00<00:00, 183MB/s]\n"
          ]
        }
      ],
      "source": [
        "file = 'path/to/xlsx'\n",
        "!gdown $file"
      ]
    },
    {
      "cell_type": "code",
      "execution_count": null,
      "metadata": {
        "id": "URuLcpuu3vlU"
      },
      "outputs": [],
      "source": []
    },
    {
      "cell_type": "code",
      "execution_count": null,
      "metadata": {
        "id": "bewzK1yB31Wo"
      },
      "outputs": [],
      "source": [
        "data_xl = pd.read_excel(\"behaviour_simulation_train.xlsx\")"
      ]
    },
    {
      "cell_type": "code",
      "execution_count": null,
      "metadata": {
        "id": "zb_SUCvF3-3z"
      },
      "outputs": [],
      "source": [
        "data_xl.to_csv('train.csv')"
      ]
    },
    {
      "cell_type": "code",
      "execution_count": null,
      "metadata": {
        "colab": {
          "base_uri": "https://localhost:8080/"
        },
        "id": "yyIgHudL4wJy",
        "outputId": "4deca696-dd01-4850-f059-7565b67a281e"
      },
      "outputs": [
        {
          "name": "stdout",
          "output_type": "stream",
          "text": [
            "/bin/bash: line 1: -o: command not found\n",
            "--2023-12-13 10:38:37--  https://drive.google.com/u/0/uc?id=1-2lyZ6G3S2l9JUj0gwsB_JI-2sv0lZ6N\n",
            "Resolving drive.google.com (drive.google.com)... 173.194.193.139, 173.194.193.101, 173.194.193.100, ...\n",
            "Connecting to drive.google.com (drive.google.com)|173.194.193.139|:443... connected.\n",
            "HTTP request sent, awaiting response... 302 Found\n",
            "Location: https://drive.google.com/uc?id=1-2lyZ6G3S2l9JUj0gwsB_JI-2sv0lZ6N [following]\n",
            "--2023-12-13 10:38:37--  https://drive.google.com/uc?id=1-2lyZ6G3S2l9JUj0gwsB_JI-2sv0lZ6N\n",
            "Reusing existing connection to drive.google.com:443.\n",
            "HTTP request sent, awaiting response... 303 See Other\n",
            "Location: https://doc-0c-88-docs.googleusercontent.com/docs/securesc/ha0ro937gcuc7l7deffksulhg5h7mbp1/usa13ghm5egsmtpc4oig11rbn1uuokq4/1702463850000/11072730283631302471/*/1-2lyZ6G3S2l9JUj0gwsB_JI-2sv0lZ6N?uuid=2ceda6fb-b275-4fac-85cf-b0fcc5b4184e [following]\n",
            "Warning: wildcards not supported in HTTP.\n",
            "--2023-12-13 10:38:40--  https://doc-0c-88-docs.googleusercontent.com/docs/securesc/ha0ro937gcuc7l7deffksulhg5h7mbp1/usa13ghm5egsmtpc4oig11rbn1uuokq4/1702463850000/11072730283631302471/*/1-2lyZ6G3S2l9JUj0gwsB_JI-2sv0lZ6N?uuid=2ceda6fb-b275-4fac-85cf-b0fcc5b4184e\n",
            "Resolving doc-0c-88-docs.googleusercontent.com (doc-0c-88-docs.googleusercontent.com)... 173.194.74.132, 2607:f8b0:4001:c0d::84\n",
            "Connecting to doc-0c-88-docs.googleusercontent.com (doc-0c-88-docs.googleusercontent.com)|173.194.74.132|:443... connected.\n",
            "HTTP request sent, awaiting response... 200 OK\n",
            "Length: 88923837 (85M) [text/csv]\n",
            "Saving to: ‘uc?id=1-2lyZ6G3S2l9JUj0gwsB_JI-2sv0lZ6N’\n",
            "\n",
            "uc?id=1-2lyZ6G3S2l9 100%[===================>]  84.80M  94.5MB/s    in 0.9s    \n",
            "\n",
            "2023-12-13 10:38:42 (94.5 MB/s) - ‘uc?id=1-2lyZ6G3S2l9JUj0gwsB_JI-2sv0lZ6N’ saved [88923837/88923837]\n",
            "\n"
          ]
        }
      ],
      "source": [
        "\n",
        "data = pd.read_csv('train.csv', index_col= 0)"
      ]
    },
    {
      "cell_type": "markdown",
      "metadata": {
        "id": "h6sTu-RXOyQC"
      },
      "source": [
        "<h1>Tasks</h1>\n",
        "<ol>\n",
        "<li> create columns url, views, duration, status, and drop media column\n",
        "<li> for videos, extract \"lowest bitrate\" \"available\" mp4 format file,\n",
        "<li> for gif, extract any mp4 format file\n",
        "<li> for image, extract \"first\" \"full url\" \"available\" jpg/png format file\n",
        "<li> duration -1 == None\n",
        "<li> Views -1 == None\n",
        "<li> around 50k media files are offline(need to recheck)\n",
        "</ol>"
      ]
    },
    {
      "cell_type": "code",
      "execution_count": null,
      "metadata": {
        "colab": {
          "base_uri": "https://localhost:8080/",
          "height": 17
        },
        "id": "6OXFe9F7T0j-",
        "outputId": "385c6130-6dea-4afd-cf99-d655fae2bd52"
      },
      "outputs": [
        {
          "data": {
            "text/html": [
              "\n",
              "  <style>\n",
              "    pre {\n",
              "        white-space: pre-wrap;\n",
              "    }\n",
              "  </style>\n",
              "  "
            ],
            "text/plain": [
              "<IPython.core.display.HTML object>"
            ]
          },
          "metadata": {},
          "output_type": "display_data"
        }
      ],
      "source": [
        "# these functions directly work with data['media'] values\n",
        "\n",
        "# for getting lowest res video\n",
        "def get_video_url(media):\n",
        "  pattern = r\"contentType='video/mp4', url='(.*?)', bitrate=(\\d+)\"\n",
        "  matches = re.findall(pattern, media)\n",
        "  lowest_bitrate_url = min(matches, key=lambda x: int(x[1]))[0]\n",
        "  # url = re.sub(r'\\.mp4.*$', '.mp4',lowest_bitrate_url)\n",
        "  url = lowest_bitrate_url\n",
        "  return url\n",
        "\n",
        "# for getting duration and views\n",
        "def get_duration_views(text):\n",
        "    pattern = r'duration=([0-9.]+),\\s*views=(\\d+|None)'\n",
        "    match = re.search(pattern, text)\n",
        "    if match:\n",
        "        duration = float(match.group(1))\n",
        "        views = int(match.group(2)) if match.group(2) != 'None' else -1\n",
        "        return duration, views\n",
        "    else:\n",
        "        print(text)\n",
        "        return None\n",
        "\n",
        "# for first image url and its format\n",
        "def get_first_image_url_format(media):\n",
        "  pattern = r\"fullUrl='(.*?)'\"\n",
        "  matches = re.findall(pattern, media)\n",
        "  first_image = matches[0]\n",
        "  format = re.findall(r\"format=([^&]+)\", first_image)[0]\n",
        "  return first_image, format\n",
        "\n",
        "# for first image url (http\\\\:askdhaks.jpg)\n",
        "def get_first_image_url(media):\n",
        "  full_url, format = get_first_image_url_format(media)\n",
        "  # pattern = r\"(.*?)\\?\"\n",
        "  # matches = re.findall(pattern, full_url)\n",
        "  # return matches[0]+f\".{format}\"\n",
        "  return full_url\n",
        "\n",
        "# for checking status\n",
        "def get_status(url):\n",
        "  res = requests.head(url, timeout=5)\n",
        "  return res.status_code"
      ]
    },
    {
      "cell_type": "code",
      "execution_count": null,
      "metadata": {
        "colab": {
          "base_uri": "https://localhost:8080/",
          "height": 17
        },
        "id": "9DpTAp2H9II7",
        "outputId": "b26d3905-ee9c-45ae-9bd4-a88e278587ce"
      },
      "outputs": [
        {
          "data": {
            "text/html": [
              "\n",
              "  <style>\n",
              "    pre {\n",
              "        white-space: pre-wrap;\n",
              "    }\n",
              "  </style>\n",
              "  "
            ],
            "text/plain": [
              "<IPython.core.display.HTML object>"
            ]
          },
          "metadata": {},
          "output_type": "display_data"
        }
      ],
      "source": [
        "def media_to_features(media):\n",
        "    mtype = \"\"\n",
        "    url = \"\"\n",
        "    duration = -1\n",
        "    views = -1\n",
        "\n",
        "    if \"[Gif(\" in media:\n",
        "        mtype = \"Gif\"\n",
        "        url = get_video_url(media)\n",
        "    elif \"[Video(\" in media:\n",
        "        mtype = \"Video\"\n",
        "        url = get_video_url(media)\n",
        "        duration, views = get_duration_views(media)\n",
        "\n",
        "    elif \"[Photo(\" in media:\n",
        "        mtype = \"Photo\"\n",
        "        url = get_first_image_url(media)\n",
        "\n",
        "    # result[\"status\"] = get_status(url)\n",
        "\n",
        "    return mtype, url, duration, views"
      ]
    },
    {
      "cell_type": "code",
      "execution_count": null,
      "metadata": {
        "colab": {
          "base_uri": "https://localhost:8080/"
        },
        "id": "lev7QRXjZHUk",
        "outputId": "aa95faae-2dba-44e2-e194-73e25779044b"
      },
      "outputs": [
        {
          "name": "stdout",
          "output_type": "stream",
          "text": [
            "number of videos:  77146\n",
            "number of images:  210009\n",
            "number of gifs  :  12845\n",
            "total number    :  300000\n"
          ]
        }
      ],
      "source": [
        "mask1 = data['media'].str.contains(\"\\[Video\\(\")\n",
        "mask2 = data['media'].str.contains(\"\\[Photo\\(\")\n",
        "mask3 = data['media'].str.contains(\"\\[Gif\\(\")\n",
        "\n",
        "filtered_df1 = data[mask1]\n",
        "filtered_df2 = data[mask2]\n",
        "filtered_df3 = data[mask3]\n",
        "\n",
        "print(\"number of videos: \", len(filtered_df1))\n",
        "print(\"number of images: \", len(filtered_df2))\n",
        "print(\"number of gifs  : \", len(filtered_df3))\n",
        "print(\"total number    : \", len(data))\n"
      ]
    },
    {
      "cell_type": "code",
      "execution_count": null,
      "metadata": {
        "colab": {
          "base_uri": "https://localhost:8080/"
        },
        "id": "uXWDob7HhdmP",
        "outputId": "8c07508c-8fba-4830-f210-1e069c7eda1b"
      },
      "outputs": [
        {
          "name": "stdout",
          "output_type": "stream",
          "text": [
            "images in jpg  : 199729\n",
            "images in png  : 10280\n",
            "images in other: 0\n",
            "total number   : 210009\n"
          ]
        }
      ],
      "source": [
        "jpg = 0\n",
        "png = 0\n",
        "other = 0\n",
        "\n",
        "for media in filtered_df2.media.values:\n",
        "  _,format = get_first_image_url_format(media)\n",
        "  if (format=='jpg'):\n",
        "    jpg+=1\n",
        "  elif (format=='png'):\n",
        "    png+=1\n",
        "  else:\n",
        "    other+=1\n",
        "print(\"images in jpg  :\", jpg)\n",
        "print(\"images in png  :\", png)\n",
        "print(\"images in other:\", other)\n",
        "print(\"total number   :\", len(filtered_df2))"
      ]
    },
    {
      "cell_type": "code",
      "execution_count": null,
      "metadata": {
        "colab": {
          "base_uri": "https://localhost:8080/"
        },
        "id": "AWa0peqA5WRI",
        "outputId": "06d78790-406a-4702-a1a3-bf91e25235b7"
      },
      "outputs": [
        {
          "name": "stdout",
          "output_type": "stream",
          "text": [
            "https://pbs.twimg.com/media/EbsA7CpWAAAdw2E?format=jpg&name=large\n"
          ]
        }
      ],
      "source": [
        "text = filtered_df2.sample(1).media.values[0]\n",
        "print(get_first_image_url(text))"
      ]
    },
    {
      "cell_type": "code",
      "execution_count": null,
      "metadata": {
        "id": "IxE_r1_h_JNy"
      },
      "outputs": [],
      "source": [
        "data[['type', 'url', 'duration', 'views']] = data['media'].apply(media_to_features).apply(pd.Series)"
      ]
    },
    {
      "cell_type": "code",
      "execution_count": null,
      "metadata": {
        "colab": {
          "base_uri": "https://localhost:8080/",
          "height": 310
        },
        "id": "HjQKxDrLLlhy",
        "outputId": "db0949a4-30e7-46ad-9223-5167f88fd4f8"
      },
      "outputs": [
        {
          "data": {
            "text/html": [
              "\n",
              "  <div id=\"df-e2d8e045-2ecc-49f4-a3ad-a1805712dbdb\" class=\"colab-df-container\">\n",
              "    <div>\n",
              "<style scoped>\n",
              "    .dataframe tbody tr th:only-of-type {\n",
              "        vertical-align: middle;\n",
              "    }\n",
              "\n",
              "    .dataframe tbody tr th {\n",
              "        vertical-align: top;\n",
              "    }\n",
              "\n",
              "    .dataframe thead th {\n",
              "        text-align: right;\n",
              "    }\n",
              "</style>\n",
              "<table border=\"1\" class=\"dataframe\">\n",
              "  <thead>\n",
              "    <tr style=\"text-align: right;\">\n",
              "      <th></th>\n",
              "      <th>id</th>\n",
              "      <th>date</th>\n",
              "      <th>likes</th>\n",
              "      <th>content</th>\n",
              "      <th>username</th>\n",
              "      <th>media</th>\n",
              "      <th>inferred company</th>\n",
              "      <th>type</th>\n",
              "      <th>url</th>\n",
              "      <th>duration</th>\n",
              "      <th>views</th>\n",
              "    </tr>\n",
              "  </thead>\n",
              "  <tbody>\n",
              "    <tr>\n",
              "      <th>292259</th>\n",
              "      <td>292260</td>\n",
              "      <td>2020-04-26 14:32:33</td>\n",
              "      <td>0</td>\n",
              "      <td>Attacking Umahi Will Not Distract Him From Dev...</td>\n",
              "      <td>IndependentNGR</td>\n",
              "      <td>[Photo(previewUrl='https://pbs.twimg.com/media...</td>\n",
              "      <td>independent</td>\n",
              "      <td>Photo</td>\n",
              "      <td>https://pbs.twimg.com/media/EWiWmuMU8AAZsL2?fo...</td>\n",
              "      <td>-1.0</td>\n",
              "      <td>-1</td>\n",
              "    </tr>\n",
              "    <tr>\n",
              "      <th>110798</th>\n",
              "      <td>110799</td>\n",
              "      <td>2020-08-27 04:45:01</td>\n",
              "      <td>1</td>\n",
              "      <td>E.ON took from 2 hours to just 5 minutes in de...</td>\n",
              "      <td>cisco_in</td>\n",
              "      <td>[Photo(previewUrl='https://pbs.twimg.com/media...</td>\n",
              "      <td>cisco</td>\n",
              "      <td>Photo</td>\n",
              "      <td>https://pbs.twimg.com/media/EgZrriXWsAAHG8Q?fo...</td>\n",
              "      <td>-1.0</td>\n",
              "      <td>-1</td>\n",
              "    </tr>\n",
              "    <tr>\n",
              "      <th>164345</th>\n",
              "      <td>164346</td>\n",
              "      <td>2018-05-20 12:33:41</td>\n",
              "      <td>94</td>\n",
              "      <td>The #GangOfDusters explores the rich cultural ...</td>\n",
              "      <td>RenaultIndia</td>\n",
              "      <td>[Photo(previewUrl='https://pbs.twimg.com/media...</td>\n",
              "      <td>renault</td>\n",
              "      <td>Photo</td>\n",
              "      <td>https://pbs.twimg.com/media/Ddo_O64V4AAiJ2D?fo...</td>\n",
              "      <td>-1.0</td>\n",
              "      <td>-1</td>\n",
              "    </tr>\n",
              "    <tr>\n",
              "      <th>229370</th>\n",
              "      <td>229371</td>\n",
              "      <td>2019-11-06 14:25:04</td>\n",
              "      <td>0</td>\n",
              "      <td>Man Remanded Over Alleged Rape Of 14-Year-Old ...</td>\n",
              "      <td>IndependentNGR</td>\n",
              "      <td>[Photo(previewUrl='https://pbs.twimg.com/media...</td>\n",
              "      <td>independent</td>\n",
              "      <td>Photo</td>\n",
              "      <td>https://pbs.twimg.com/media/EIsjcORVAAAtEfA?fo...</td>\n",
              "      <td>-1.0</td>\n",
              "      <td>-1</td>\n",
              "    </tr>\n",
              "    <tr>\n",
              "      <th>94882</th>\n",
              "      <td>94883</td>\n",
              "      <td>2019-12-05 04:18:17</td>\n",
              "      <td>2</td>\n",
              "      <td>And that's a wrap to an eventful Community Imp...</td>\n",
              "      <td>cisco_in</td>\n",
              "      <td>[Photo(previewUrl='https://pbs.twimg.com/media...</td>\n",
              "      <td>cisco</td>\n",
              "      <td>Photo</td>\n",
              "      <td>https://pbs.twimg.com/media/EK_uqjyWoAAXs7X?fo...</td>\n",
              "      <td>-1.0</td>\n",
              "      <td>-1</td>\n",
              "    </tr>\n",
              "  </tbody>\n",
              "</table>\n",
              "</div>\n",
              "    <div class=\"colab-df-buttons\">\n",
              "\n",
              "  <div class=\"colab-df-container\">\n",
              "    <button class=\"colab-df-convert\" onclick=\"convertToInteractive('df-e2d8e045-2ecc-49f4-a3ad-a1805712dbdb')\"\n",
              "            title=\"Convert this dataframe to an interactive table.\"\n",
              "            style=\"display:none;\">\n",
              "\n",
              "  <svg xmlns=\"http://www.w3.org/2000/svg\" height=\"24px\" viewBox=\"0 -960 960 960\">\n",
              "    <path d=\"M120-120v-720h720v720H120Zm60-500h600v-160H180v160Zm220 220h160v-160H400v160Zm0 220h160v-160H400v160ZM180-400h160v-160H180v160Zm440 0h160v-160H620v160ZM180-180h160v-160H180v160Zm440 0h160v-160H620v160Z\"/>\n",
              "  </svg>\n",
              "    </button>\n",
              "\n",
              "  <style>\n",
              "    .colab-df-container {\n",
              "      display:flex;\n",
              "      gap: 12px;\n",
              "    }\n",
              "\n",
              "    .colab-df-convert {\n",
              "      background-color: #E8F0FE;\n",
              "      border: none;\n",
              "      border-radius: 50%;\n",
              "      cursor: pointer;\n",
              "      display: none;\n",
              "      fill: #1967D2;\n",
              "      height: 32px;\n",
              "      padding: 0 0 0 0;\n",
              "      width: 32px;\n",
              "    }\n",
              "\n",
              "    .colab-df-convert:hover {\n",
              "      background-color: #E2EBFA;\n",
              "      box-shadow: 0px 1px 2px rgba(60, 64, 67, 0.3), 0px 1px 3px 1px rgba(60, 64, 67, 0.15);\n",
              "      fill: #174EA6;\n",
              "    }\n",
              "\n",
              "    .colab-df-buttons div {\n",
              "      margin-bottom: 4px;\n",
              "    }\n",
              "\n",
              "    [theme=dark] .colab-df-convert {\n",
              "      background-color: #3B4455;\n",
              "      fill: #D2E3FC;\n",
              "    }\n",
              "\n",
              "    [theme=dark] .colab-df-convert:hover {\n",
              "      background-color: #434B5C;\n",
              "      box-shadow: 0px 1px 3px 1px rgba(0, 0, 0, 0.15);\n",
              "      filter: drop-shadow(0px 1px 2px rgba(0, 0, 0, 0.3));\n",
              "      fill: #FFFFFF;\n",
              "    }\n",
              "  </style>\n",
              "\n",
              "    <script>\n",
              "      const buttonEl =\n",
              "        document.querySelector('#df-e2d8e045-2ecc-49f4-a3ad-a1805712dbdb button.colab-df-convert');\n",
              "      buttonEl.style.display =\n",
              "        google.colab.kernel.accessAllowed ? 'block' : 'none';\n",
              "\n",
              "      async function convertToInteractive(key) {\n",
              "        const element = document.querySelector('#df-e2d8e045-2ecc-49f4-a3ad-a1805712dbdb');\n",
              "        const dataTable =\n",
              "          await google.colab.kernel.invokeFunction('convertToInteractive',\n",
              "                                                    [key], {});\n",
              "        if (!dataTable) return;\n",
              "\n",
              "        const docLinkHtml = 'Like what you see? Visit the ' +\n",
              "          '<a target=\"_blank\" href=https://colab.research.google.com/notebooks/data_table.ipynb>data table notebook</a>'\n",
              "          + ' to learn more about interactive tables.';\n",
              "        element.innerHTML = '';\n",
              "        dataTable['output_type'] = 'display_data';\n",
              "        await google.colab.output.renderOutput(dataTable, element);\n",
              "        const docLink = document.createElement('div');\n",
              "        docLink.innerHTML = docLinkHtml;\n",
              "        element.appendChild(docLink);\n",
              "      }\n",
              "    </script>\n",
              "  </div>\n",
              "\n",
              "\n",
              "<div id=\"df-9fdcbd97-11e5-4586-8522-b8c10a13c0cf\">\n",
              "  <button class=\"colab-df-quickchart\" onclick=\"quickchart('df-9fdcbd97-11e5-4586-8522-b8c10a13c0cf')\"\n",
              "            title=\"Suggest charts\"\n",
              "            style=\"display:none;\">\n",
              "\n",
              "<svg xmlns=\"http://www.w3.org/2000/svg\" height=\"24px\"viewBox=\"0 0 24 24\"\n",
              "     width=\"24px\">\n",
              "    <g>\n",
              "        <path d=\"M19 3H5c-1.1 0-2 .9-2 2v14c0 1.1.9 2 2 2h14c1.1 0 2-.9 2-2V5c0-1.1-.9-2-2-2zM9 17H7v-7h2v7zm4 0h-2V7h2v10zm4 0h-2v-4h2v4z\"/>\n",
              "    </g>\n",
              "</svg>\n",
              "  </button>\n",
              "\n",
              "<style>\n",
              "  .colab-df-quickchart {\n",
              "      --bg-color: #E8F0FE;\n",
              "      --fill-color: #1967D2;\n",
              "      --hover-bg-color: #E2EBFA;\n",
              "      --hover-fill-color: #174EA6;\n",
              "      --disabled-fill-color: #AAA;\n",
              "      --disabled-bg-color: #DDD;\n",
              "  }\n",
              "\n",
              "  [theme=dark] .colab-df-quickchart {\n",
              "      --bg-color: #3B4455;\n",
              "      --fill-color: #D2E3FC;\n",
              "      --hover-bg-color: #434B5C;\n",
              "      --hover-fill-color: #FFFFFF;\n",
              "      --disabled-bg-color: #3B4455;\n",
              "      --disabled-fill-color: #666;\n",
              "  }\n",
              "\n",
              "  .colab-df-quickchart {\n",
              "    background-color: var(--bg-color);\n",
              "    border: none;\n",
              "    border-radius: 50%;\n",
              "    cursor: pointer;\n",
              "    display: none;\n",
              "    fill: var(--fill-color);\n",
              "    height: 32px;\n",
              "    padding: 0;\n",
              "    width: 32px;\n",
              "  }\n",
              "\n",
              "  .colab-df-quickchart:hover {\n",
              "    background-color: var(--hover-bg-color);\n",
              "    box-shadow: 0 1px 2px rgba(60, 64, 67, 0.3), 0 1px 3px 1px rgba(60, 64, 67, 0.15);\n",
              "    fill: var(--button-hover-fill-color);\n",
              "  }\n",
              "\n",
              "  .colab-df-quickchart-complete:disabled,\n",
              "  .colab-df-quickchart-complete:disabled:hover {\n",
              "    background-color: var(--disabled-bg-color);\n",
              "    fill: var(--disabled-fill-color);\n",
              "    box-shadow: none;\n",
              "  }\n",
              "\n",
              "  .colab-df-spinner {\n",
              "    border: 2px solid var(--fill-color);\n",
              "    border-color: transparent;\n",
              "    border-bottom-color: var(--fill-color);\n",
              "    animation:\n",
              "      spin 1s steps(1) infinite;\n",
              "  }\n",
              "\n",
              "  @keyframes spin {\n",
              "    0% {\n",
              "      border-color: transparent;\n",
              "      border-bottom-color: var(--fill-color);\n",
              "      border-left-color: var(--fill-color);\n",
              "    }\n",
              "    20% {\n",
              "      border-color: transparent;\n",
              "      border-left-color: var(--fill-color);\n",
              "      border-top-color: var(--fill-color);\n",
              "    }\n",
              "    30% {\n",
              "      border-color: transparent;\n",
              "      border-left-color: var(--fill-color);\n",
              "      border-top-color: var(--fill-color);\n",
              "      border-right-color: var(--fill-color);\n",
              "    }\n",
              "    40% {\n",
              "      border-color: transparent;\n",
              "      border-right-color: var(--fill-color);\n",
              "      border-top-color: var(--fill-color);\n",
              "    }\n",
              "    60% {\n",
              "      border-color: transparent;\n",
              "      border-right-color: var(--fill-color);\n",
              "    }\n",
              "    80% {\n",
              "      border-color: transparent;\n",
              "      border-right-color: var(--fill-color);\n",
              "      border-bottom-color: var(--fill-color);\n",
              "    }\n",
              "    90% {\n",
              "      border-color: transparent;\n",
              "      border-bottom-color: var(--fill-color);\n",
              "    }\n",
              "  }\n",
              "</style>\n",
              "\n",
              "  <script>\n",
              "    async function quickchart(key) {\n",
              "      const quickchartButtonEl =\n",
              "        document.querySelector('#' + key + ' button');\n",
              "      quickchartButtonEl.disabled = true;  // To prevent multiple clicks.\n",
              "      quickchartButtonEl.classList.add('colab-df-spinner');\n",
              "      try {\n",
              "        const charts = await google.colab.kernel.invokeFunction(\n",
              "            'suggestCharts', [key], {});\n",
              "      } catch (error) {\n",
              "        console.error('Error during call to suggestCharts:', error);\n",
              "      }\n",
              "      quickchartButtonEl.classList.remove('colab-df-spinner');\n",
              "      quickchartButtonEl.classList.add('colab-df-quickchart-complete');\n",
              "    }\n",
              "    (() => {\n",
              "      let quickchartButtonEl =\n",
              "        document.querySelector('#df-9fdcbd97-11e5-4586-8522-b8c10a13c0cf button');\n",
              "      quickchartButtonEl.style.display =\n",
              "        google.colab.kernel.accessAllowed ? 'block' : 'none';\n",
              "    })();\n",
              "  </script>\n",
              "</div>\n",
              "\n",
              "    </div>\n",
              "  </div>\n"
            ],
            "text/plain": [
              "            id                 date  likes  \\\n",
              "292259  292260  2020-04-26 14:32:33      0   \n",
              "110798  110799  2020-08-27 04:45:01      1   \n",
              "164345  164346  2018-05-20 12:33:41     94   \n",
              "229370  229371  2019-11-06 14:25:04      0   \n",
              "94882    94883  2019-12-05 04:18:17      2   \n",
              "\n",
              "                                                  content        username  \\\n",
              "292259  Attacking Umahi Will Not Distract Him From Dev...  IndependentNGR   \n",
              "110798  E.ON took from 2 hours to just 5 minutes in de...        cisco_in   \n",
              "164345  The #GangOfDusters explores the rich cultural ...    RenaultIndia   \n",
              "229370  Man Remanded Over Alleged Rape Of 14-Year-Old ...  IndependentNGR   \n",
              "94882   And that's a wrap to an eventful Community Imp...        cisco_in   \n",
              "\n",
              "                                                    media inferred company  \\\n",
              "292259  [Photo(previewUrl='https://pbs.twimg.com/media...      independent   \n",
              "110798  [Photo(previewUrl='https://pbs.twimg.com/media...            cisco   \n",
              "164345  [Photo(previewUrl='https://pbs.twimg.com/media...          renault   \n",
              "229370  [Photo(previewUrl='https://pbs.twimg.com/media...      independent   \n",
              "94882   [Photo(previewUrl='https://pbs.twimg.com/media...            cisco   \n",
              "\n",
              "         type                                                url  duration  \\\n",
              "292259  Photo  https://pbs.twimg.com/media/EWiWmuMU8AAZsL2?fo...      -1.0   \n",
              "110798  Photo  https://pbs.twimg.com/media/EgZrriXWsAAHG8Q?fo...      -1.0   \n",
              "164345  Photo  https://pbs.twimg.com/media/Ddo_O64V4AAiJ2D?fo...      -1.0   \n",
              "229370  Photo  https://pbs.twimg.com/media/EIsjcORVAAAtEfA?fo...      -1.0   \n",
              "94882   Photo  https://pbs.twimg.com/media/EK_uqjyWoAAXs7X?fo...      -1.0   \n",
              "\n",
              "        views  \n",
              "292259     -1  \n",
              "110798     -1  \n",
              "164345     -1  \n",
              "229370     -1  \n",
              "94882      -1  "
            ]
          },
          "execution_count": 50,
          "metadata": {},
          "output_type": "execute_result"
        }
      ],
      "source": [
        "data.sample(5)"
      ]
    },
    {
      "cell_type": "code",
      "execution_count": null,
      "metadata": {
        "id": "YflPRmKHPLMN"
      },
      "outputs": [],
      "source": [
        "df = data.drop(['media'], axis = 1)"
      ]
    },
    {
      "cell_type": "code",
      "execution_count": null,
      "metadata": {
        "id": "HtSzIRBWPa1G"
      },
      "outputs": [],
      "source": [
        "df.to_csv('train_extended.csv')"
      ]
    },
    {
      "cell_type": "code",
      "execution_count": null,
      "metadata": {
        "colab": {
          "base_uri": "https://localhost:8080/"
        },
        "id": "0nxcIkCkPvwz",
        "outputId": "34305296-1d69-43bc-dc30-630bb4f46f84"
      },
      "outputs": [
        {
          "name": "stdout",
          "output_type": "stream",
          "text": [
            "Drive already mounted at /content/drive; to attempt to forcibly remount, call drive.mount(\"/content/drive\", force_remount=True).\n"
          ]
        }
      ],
      "source": [
        "# saving work\n",
        "# from google.colab import drive\n",
        "# drive.mount('/content/drive')\n",
        "# !cp train_extended.csv /content/drive/MyDrive"
      ]
    },
    {
      "cell_type": "code",
      "execution_count": null,
      "metadata": {
        "colab": {
          "base_uri": "https://localhost:8080/"
        },
        "id": "nK3FD6fQS254",
        "outputId": "0447e22d-19cd-444a-d98a-0538c3303e3b"
      },
      "outputs": [
        {
          "name": "stdout",
          "output_type": "stream",
          "text": [
            "Minimum length URL: https://video.twimg.com/tweet_video/EPFYz1vXUAE7jdr.mp4\n",
            "Minimum length: 55\n"
          ]
        }
      ],
      "source": [
        "min_length_url = min(df['url'], key=len)\n",
        "\n",
        "print(\"Minimum length URL:\", min_length_url)\n",
        "print(\"Minimum length:\", len(min_length_url))"
      ]
    },
    {
      "cell_type": "code",
      "execution_count": null,
      "metadata": {
        "id": "QEph5ChNc7UF"
      },
      "outputs": [],
      "source": [
        "df.sample(5)"
      ]
    },
    {
      "cell_type": "code",
      "execution_count": null,
      "metadata": {
        "id": "B9pEmug5c1xJ"
      },
      "outputs": [],
      "source": []
    },
    {
      "cell_type": "code",
      "execution_count": null,
      "metadata": {
        "colab": {
          "base_uri": "https://localhost:8080/",
          "height": 17
        },
        "id": "UoigOnklE5fN",
        "outputId": "1de977e6-d403-4f3a-edc8-4e30d6318c8a"
      },
      "outputs": [
        {
          "data": {
            "text/html": [
              "\n",
              "  <style>\n",
              "    pre {\n",
              "        white-space: pre-wrap;\n",
              "    }\n",
              "  </style>\n",
              "  "
            ],
            "text/plain": [
              "<IPython.core.display.HTML object>"
            ]
          },
          "metadata": {},
          "output_type": "display_data"
        },
        {
          "data": {
            "text/html": [
              "\n",
              "  <style>\n",
              "    pre {\n",
              "        white-space: pre-wrap;\n",
              "    }\n",
              "  </style>\n",
              "  "
            ],
            "text/plain": [
              "<IPython.core.display.HTML object>"
            ]
          },
          "metadata": {},
          "output_type": "display_data"
        }
      ],
      "source": [
        "# taking 10 hours\n",
        "# import concurrent.futures\n",
        "# from tqdm import tqdm\n",
        "\n",
        "# with concurrent.futures.ProcessPoolExecutor(max_workers=10) as executor:\n",
        "#     results = list(tqdm(executor.map(get_status, df['url']), total=len(df)))\n",
        "\n",
        "# df['status_code'] = results"
      ]
    },
    {
      "cell_type": "markdown",
      "metadata": {
        "id": "o3yx6VOqvsWO"
      },
      "source": [
        "# loading"
      ]
    },
    {
      "cell_type": "code",
      "execution_count": null,
      "metadata": {
        "colab": {
          "base_uri": "https://localhost:8080/",
          "height": 90
        },
        "id": "2g5mVP5kwsmR",
        "outputId": "27e66796-196c-4b17-8297-16e01d330e7f"
      },
      "outputs": [],
      "source": [
        "# !gdown path/to/converted/csv/xlsx --fuzzy -O train_extended.csv\n",
        "data = pd.read_csv('train_extended.csv', index_col= 0)"
      ]
    },
    {
      "cell_type": "code",
      "execution_count": null,
      "metadata": {
        "colab": {
          "base_uri": "https://localhost:8080/",
          "height": 53
        },
        "id": "jDMDWsgZwuCp",
        "outputId": "baddd613-09fa-48ba-80f8-1f7f3d78f4f4"
      },
      "outputs": [
        {
          "data": {
            "text/html": [
              "\n",
              "  <style>\n",
              "    pre {\n",
              "        white-space: pre-wrap;\n",
              "    }\n",
              "  </style>\n",
              "  "
            ],
            "text/plain": [
              "<IPython.core.display.HTML object>"
            ]
          },
          "metadata": {},
          "output_type": "display_data"
        },
        {
          "name": "stdout",
          "output_type": "stream",
          "text": [
            "min content 20\n",
            "max content 540\n"
          ]
        }
      ],
      "source": [
        "min_length = data['content'].str.len().min()\n",
        "max_length = data['content'].str.len().max()\n",
        "print(\"min content\", min_length)\n",
        "print(\"max content\", max_length)"
      ]
    },
    {
      "cell_type": "code",
      "execution_count": null,
      "metadata": {
        "colab": {
          "base_uri": "https://localhost:8080/",
          "height": 291
        },
        "id": "66DUkMncBdtn",
        "outputId": "9fa0117b-9845-4251-8b66-7c19f8a476aa"
      },
      "outputs": [
        {
          "data": {
            "text/html": [
              "\n",
              "  <style>\n",
              "    pre {\n",
              "        white-space: pre-wrap;\n",
              "    }\n",
              "  </style>\n",
              "  "
            ],
            "text/plain": [
              "<IPython.core.display.HTML object>"
            ]
          },
          "metadata": {},
          "output_type": "display_data"
        },
        {
          "data": {
            "text/html": [
              "\n",
              "  <style>\n",
              "    pre {\n",
              "        white-space: pre-wrap;\n",
              "    }\n",
              "  </style>\n",
              "  "
            ],
            "text/plain": [
              "<IPython.core.display.HTML object>"
            ]
          },
          "metadata": {},
          "output_type": "display_data"
        },
        {
          "name": "stdout",
          "output_type": "stream",
          "text": [
            "['Showing my little family around my beloved Durham reminiscing about uni days 💕 <hyperlink>'\n",
            " 'Brian Burns got hands\\n\\nHi <mention> 👋 <hyperlink>'\n",
            " 'Today, tomorrow, and every day we honor and thank our veterans who defend, and protect our inalienable rights.  Grateful to you and for you. Thank you . #VeteransDay 🇺🇸 <hyperlink>'\n",
            " 'I like these guys a lot. They stood in line to meet without muscling their way ahead (dudes skipping women in line after diversity-related talks happens more than you’d think🤦🏾\\u200d♀️), had such positive energy, &amp; seem like fantastic allies. Just found this post of theirs. <hyperlink>'\n",
            " 'Afraid of #CyberAttacks? <mention>’s R&amp;D center in the Middle East isn’t, thanks to the Defense in depth concept from Siemens! Curious? Join us at #HM18 to get more info: <hyperlink> <hyperlink>'\n",
            " 'Three people ticketed for failing to self-isolate after arriving in Nova Scotia <hyperlink> <hyperlink>'\n",
            " 'i am a brand. follow me. <hyperlink>'\n",
            " 'Just clicked on the sky news feed talking about the #RoyalWedding.. Lady went on a run about the contrasts for Meghan between England and here... said “There will be adjustments for her coming from “The Colonies””.. Is that what England calls America still? <hyperlink>'\n",
            " 'Thank you <mention> for taking a stand against #AnimalExploitation by no longer selling tickets to attractions involving paid contact btw humans &amp; wild animals. Far too many animals suffer for #selfies rides, etc. This is a step in the right direction! <hyperlink> <hyperlink>'\n",
            " 'Palliatives: Gov. AbdulRazaq Hails Ilorin Emirate For Support <hyperlink> <hyperlink>']\n"
          ]
        }
      ],
      "source": [
        "print(data.sample(10).content.values)"
      ]
    },
    {
      "cell_type": "code",
      "execution_count": null,
      "metadata": {
        "colab": {
          "base_uri": "https://localhost:8080/",
          "height": 199
        },
        "id": "TrKyMXBHzzke",
        "outputId": "33b39452-0247-44ee-8ab0-859fbbfd761f"
      },
      "outputs": [
        {
          "data": {
            "text/html": [
              "\n",
              "  <style>\n",
              "    pre {\n",
              "        white-space: pre-wrap;\n",
              "    }\n",
              "  </style>\n",
              "  "
            ],
            "text/plain": [
              "<IPython.core.display.HTML object>"
            ]
          },
          "metadata": {},
          "output_type": "display_data"
        },
        {
          "name": "stdout",
          "output_type": "stream",
          "text": [
            "Requirement already satisfied: emoji in /usr/local/lib/python3.10/dist-packages (1.7.0)\n",
            "Requirement already satisfied: clean-text[gpl] in /usr/local/lib/python3.10/dist-packages (0.6.0)\n",
            "Requirement already satisfied: emoji<2.0.0,>=1.0.0 in /usr/local/lib/python3.10/dist-packages (from clean-text[gpl]) (1.7.0)\n",
            "Requirement already satisfied: ftfy<7.0,>=6.0 in /usr/local/lib/python3.10/dist-packages (from clean-text[gpl]) (6.1.3)\n",
            "Collecting unidecode<2.0.0,>=1.1.1 (from clean-text[gpl])\n",
            "  Downloading Unidecode-1.3.7-py3-none-any.whl (235 kB)\n",
            "\u001b[2K     \u001b[90m━━━━━━━━━━━━━━━━━━━━━━━━━━━━━━━━━━━━━━━━\u001b[0m \u001b[32m235.5/235.5 kB\u001b[0m \u001b[31m4.7 MB/s\u001b[0m eta \u001b[36m0:00:00\u001b[0m\n",
            "\u001b[?25hRequirement already satisfied: wcwidth<0.3.0,>=0.2.12 in /usr/local/lib/python3.10/dist-packages (from ftfy<7.0,>=6.0->clean-text[gpl]) (0.2.12)\n",
            "Installing collected packages: unidecode\n",
            "Successfully installed unidecode-1.3.7\n"
          ]
        }
      ],
      "source": [
        "!pip install emoji\n",
        "!pip install clean-text[gpl]"
      ]
    },
    {
      "cell_type": "code",
      "execution_count": null,
      "metadata": {
        "colab": {
          "base_uri": "https://localhost:8080/",
          "height": 17
        },
        "id": "vM8Uiic9yM1E",
        "outputId": "bd920e02-61ea-4ace-a1a5-bea6ca4303a8"
      },
      "outputs": [
        {
          "data": {
            "text/html": [
              "\n",
              "  <style>\n",
              "    pre {\n",
              "        white-space: pre-wrap;\n",
              "    }\n",
              "  </style>\n",
              "  "
            ],
            "text/plain": [
              "<IPython.core.display.HTML object>"
            ]
          },
          "metadata": {},
          "output_type": "display_data"
        }
      ],
      "source": [
        "from cleantext import clean\n",
        "def remove_emojis_and_tags(text):\n",
        "    # Remove emojis\n",
        "\n",
        "    clean_text = clean(text,\n",
        "        fix_unicode=True,               # fix various unicode errors\n",
        "        to_ascii=True,                  # transliterate to closest ASCII representation\n",
        "        lower=True,                     # lowercase text\n",
        "        no_line_breaks=False,           # fully strip line breaks as opposed to only normalizing them\n",
        "        no_urls=True,                  # replace all URLs with a special token\n",
        "        no_emails=True,                # replace all email addresses with a special token\n",
        "        no_phone_numbers=False,         # replace all phone numbers with a special token\n",
        "        no_numbers=False,               # replace all numbers with a special token\n",
        "        no_digits=False,                # replace all digits with a special token\n",
        "        no_currency_symbols=False,      # replace all currency symbols with a special token\n",
        "        no_punct=False,                 # remove punctuations\n",
        "        no_emoji=True,\n",
        "        # replace_with_punct=\"\",          # instead of removing punctuations you may replace them\n",
        "        replace_with_url=\"<URL>\",\n",
        "        replace_with_email=\"<EMAIL>\",\n",
        "        # replace_with_phone_number=\"<PHONE>\",\n",
        "        # replace_with_number=\"<NUMBER>\",\n",
        "        # replace_with_digit=\"0\",\n",
        "        # replace_with_currency_symbol=\"<CUR>\",\n",
        "        lang=\"en\"                       # set to 'de' for German special handling\n",
        "    )\n",
        "\n",
        "    # Remove text within <>\n",
        "    text_no_tags = ' '.join(word for word in clean_text.split() if not (word.startswith('<') and word.endswith('>')))\n",
        "\n",
        "    return text_no_tags"
      ]
    },
    {
      "cell_type": "code",
      "execution_count": null,
      "metadata": {
        "colab": {
          "base_uri": "https://localhost:8080/",
          "height": 17
        },
        "id": "QzVx5mzCz5qA",
        "outputId": "d06975b4-5c61-4a34-fc5f-5f8879394450"
      },
      "outputs": [
        {
          "data": {
            "text/html": [
              "\n",
              "  <style>\n",
              "    pre {\n",
              "        white-space: pre-wrap;\n",
              "    }\n",
              "  </style>\n",
              "  "
            ],
            "text/plain": [
              "<IPython.core.display.HTML object>"
            ]
          },
          "metadata": {},
          "output_type": "display_data"
        },
        {
          "data": {
            "text/html": [
              "\n",
              "  <style>\n",
              "    pre {\n",
              "        white-space: pre-wrap;\n",
              "    }\n",
              "  </style>\n",
              "  "
            ],
            "text/plain": [
              "<IPython.core.display.HTML object>"
            ]
          },
          "metadata": {},
          "output_type": "display_data"
        }
      ],
      "source": [
        "data['content'] = data['content'].apply(remove_emojis_and_tags)"
      ]
    },
    {
      "cell_type": "code",
      "execution_count": null,
      "metadata": {
        "colab": {
          "base_uri": "https://localhost:8080/",
          "height": 53
        },
        "id": "7zoKamzZ38wa",
        "outputId": "52d7d9db-4609-4a1a-fcdb-54f4ded2ea39"
      },
      "outputs": [
        {
          "data": {
            "text/html": [
              "\n",
              "  <style>\n",
              "    pre {\n",
              "        white-space: pre-wrap;\n",
              "    }\n",
              "  </style>\n",
              "  "
            ],
            "text/plain": [
              "<IPython.core.display.HTML object>"
            ]
          },
          "metadata": {},
          "output_type": "display_data"
        },
        {
          "data": {
            "text/html": [
              "\n",
              "  <style>\n",
              "    pre {\n",
              "        white-space: pre-wrap;\n",
              "    }\n",
              "  </style>\n",
              "  "
            ],
            "text/plain": [
              "<IPython.core.display.HTML object>"
            ]
          },
          "metadata": {},
          "output_type": "display_data"
        },
        {
          "name": "stdout",
          "output_type": "stream",
          "text": [
            "min content 4\n",
            "max content 300\n"
          ]
        }
      ],
      "source": [
        "min_length = data['content'].str.len().min()\n",
        "max_length = data['content'].str.len().max()\n",
        "print(\"min content\", min_length)\n",
        "print(\"max content\", max_length)"
      ]
    },
    {
      "cell_type": "code",
      "execution_count": null,
      "metadata": {
        "colab": {
          "base_uri": "https://localhost:8080/",
          "height": 254
        },
        "id": "ZyKXAt_ryNl3",
        "outputId": "b2c1b779-f3e8-4cf8-8d31-91277074ba39"
      },
      "outputs": [
        {
          "data": {
            "text/html": [
              "\n",
              "  <style>\n",
              "    pre {\n",
              "        white-space: pre-wrap;\n",
              "    }\n",
              "  </style>\n",
              "  "
            ],
            "text/plain": [
              "<IPython.core.display.HTML object>"
            ]
          },
          "metadata": {},
          "output_type": "display_data"
        },
        {
          "data": {
            "text/html": [
              "\n",
              "  <style>\n",
              "    pre {\n",
              "        white-space: pre-wrap;\n",
              "    }\n",
              "  </style>\n",
              "  "
            ],
            "text/plain": [
              "<IPython.core.display.HTML object>"
            ]
          },
          "metadata": {},
          "output_type": "display_data"
        },
        {
          "name": "stdout",
          "output_type": "stream",
          "text": [
            "['pull cash seamlessly from your bank to your airtel money wallet at no extra cost. dial *185*7*1# to get started on the transfer. #besmartbesafe'\n",
            " 'happening now in room 501/502 - kops for #openstack presented by derek lemon. #openstack #openinfrastructuresummit #kubernetes #ops'\n",
            " '\"not all country boys are bigots... happy pride month.\" this man\\'s message of acceptance from rural oklahoma touched people around the world. he tells cnn why he finds it so important to be an ally:'\n",
            " '#dublin fog affecting visibility on the m50 and n4 at the moment. take care. more here:'\n",
            " 'your #epoty2019 is... stalwart consistent, incisive, a stand out all season #heineken #championscup'\n",
            " 'from the menu - a dessert of blueberry and walnuts with ants and wood sorrel!'\n",
            " \"what are the key criteria to choose a suitable #iot #platform? how can iot #applications be monetized using the right platform? #mindsphere coo explains you the dos and don'ts in this webinar with\"\n",
            " \"how has #covid19 impacted conservation? in honor of #wildlifeconservationday we'll be hearing from gladys kalema-zukosoka (<mention>) and ricardo moreno of who are both studying the pandemic's effects on wildlife. thread\"\n",
            " 'allow me to play you the song of my people. #animalcrossing'\n",
            " \"i've cold #socialdistancing #getthesewalleyes\"]\n"
          ]
        }
      ],
      "source": [
        "print(data.sample(10).content.values)"
      ]
    },
    {
      "cell_type": "code",
      "execution_count": null,
      "metadata": {
        "colab": {
          "base_uri": "https://localhost:8080/",
          "height": 181
        },
        "id": "5Lo6TZWCB8zn",
        "outputId": "352112ad-7b07-4a89-cecb-3ede171ab007"
      },
      "outputs": [
        {
          "data": {
            "text/html": [
              "\n",
              "  <style>\n",
              "    pre {\n",
              "        white-space: pre-wrap;\n",
              "    }\n",
              "  </style>\n",
              "  "
            ],
            "text/plain": [
              "<IPython.core.display.HTML object>"
            ]
          },
          "metadata": {},
          "output_type": "display_data"
        },
        {
          "data": {
            "text/html": [
              "\n",
              "  <style>\n",
              "    pre {\n",
              "        white-space: pre-wrap;\n",
              "    }\n",
              "  </style>\n",
              "  "
            ],
            "text/plain": [
              "<IPython.core.display.HTML object>"
            ]
          },
          "metadata": {},
          "output_type": "display_data"
        },
        {
          "data": {
            "text/plain": [
              "count    300000.000000\n",
              "mean         15.996764\n",
              "std          47.886853\n",
              "min          -1.000000\n",
              "25%          -1.000000\n",
              "50%          -1.000000\n",
              "75%           5.000000\n",
              "max         599.933000\n",
              "Name: duration, dtype: float64"
            ]
          },
          "execution_count": 30,
          "metadata": {},
          "output_type": "execute_result"
        }
      ],
      "source": [
        "data.duration.describe()"
      ]
    },
    {
      "cell_type": "code",
      "execution_count": null,
      "metadata": {
        "colab": {
          "base_uri": "https://localhost:8080/",
          "height": 17
        },
        "id": "UIuIhtRQ45-z",
        "outputId": "bfe941b9-2d48-457e-b7ad-071445193930"
      },
      "outputs": [
        {
          "data": {
            "text/html": [
              "\n",
              "  <style>\n",
              "    pre {\n",
              "        white-space: pre-wrap;\n",
              "    }\n",
              "  </style>\n",
              "  "
            ],
            "text/plain": [
              "<IPython.core.display.HTML object>"
            ]
          },
          "metadata": {},
          "output_type": "display_data"
        },
        {
          "data": {
            "text/html": [
              "\n",
              "  <style>\n",
              "    pre {\n",
              "        white-space: pre-wrap;\n",
              "    }\n",
              "  </style>\n",
              "  "
            ],
            "text/plain": [
              "<IPython.core.display.HTML object>"
            ]
          },
          "metadata": {},
          "output_type": "display_data"
        }
      ],
      "source": [
        "data['duration'] = data['duration'].apply(lambda x: max(1, x)).astype(int)"
      ]
    },
    {
      "cell_type": "code",
      "execution_count": null,
      "metadata": {
        "colab": {
          "base_uri": "https://localhost:8080/",
          "height": 181
        },
        "id": "u0-hAtV25UF5",
        "outputId": "60e56b29-dba4-4cf8-fe1e-344438d06571"
      },
      "outputs": [
        {
          "data": {
            "text/html": [
              "\n",
              "  <style>\n",
              "    pre {\n",
              "        white-space: pre-wrap;\n",
              "    }\n",
              "  </style>\n",
              "  "
            ],
            "text/plain": [
              "<IPython.core.display.HTML object>"
            ]
          },
          "metadata": {},
          "output_type": "display_data"
        },
        {
          "data": {
            "text/html": [
              "\n",
              "  <style>\n",
              "    pre {\n",
              "        white-space: pre-wrap;\n",
              "    }\n",
              "  </style>\n",
              "  "
            ],
            "text/plain": [
              "<IPython.core.display.HTML object>"
            ]
          },
          "metadata": {},
          "output_type": "display_data"
        },
        {
          "data": {
            "text/plain": [
              "count    300000.000000\n",
              "mean         17.372250\n",
              "std          47.241855\n",
              "min           1.000000\n",
              "25%           1.000000\n",
              "50%           1.000000\n",
              "75%           5.000000\n",
              "max         599.000000\n",
              "Name: duration, dtype: float64"
            ]
          },
          "execution_count": 32,
          "metadata": {},
          "output_type": "execute_result"
        }
      ],
      "source": [
        "data.duration.describe()"
      ]
    },
    {
      "cell_type": "code",
      "execution_count": null,
      "metadata": {
        "colab": {
          "base_uri": "https://localhost:8080/",
          "height": 199
        },
        "id": "buJQSTuxE1d9",
        "outputId": "93814ced-0a37-4a0f-d5be-fcef11179da9"
      },
      "outputs": [
        {
          "data": {
            "text/html": [
              "\n",
              "  <style>\n",
              "    pre {\n",
              "        white-space: pre-wrap;\n",
              "    }\n",
              "  </style>\n",
              "  "
            ],
            "text/plain": [
              "<IPython.core.display.HTML object>"
            ]
          },
          "metadata": {},
          "output_type": "display_data"
        },
        {
          "data": {
            "text/html": [
              "\n",
              "  <style>\n",
              "    pre {\n",
              "        white-space: pre-wrap;\n",
              "    }\n",
              "  </style>\n",
              "  "
            ],
            "text/plain": [
              "<IPython.core.display.HTML object>"
            ]
          },
          "metadata": {},
          "output_type": "display_data"
        },
        {
          "name": "stdout",
          "output_type": "stream",
          "text": [
            "duration of videos in dataset\n",
            " count    77146.000000\n",
            "mean        64.667267\n",
            "std         75.284399\n",
            "min          1.000000\n",
            "25%         16.000000\n",
            "50%         41.000000\n",
            "75%         81.000000\n",
            "max        599.000000\n",
            "Name: duration, dtype: float64\n"
          ]
        }
      ],
      "source": [
        "print(\"duration of videos in dataset\\n\",data[data['type'] == 'Video']['duration'][data['duration'] >= 0].describe())"
      ]
    },
    {
      "cell_type": "code",
      "execution_count": null,
      "metadata": {
        "colab": {
          "base_uri": "https://localhost:8080/",
          "height": 181
        },
        "id": "gHE-SYFo5fWD",
        "outputId": "1699f48d-d8c4-436a-ddf9-62daec82dd3f"
      },
      "outputs": [
        {
          "data": {
            "text/html": [
              "\n",
              "  <style>\n",
              "    pre {\n",
              "        white-space: pre-wrap;\n",
              "    }\n",
              "  </style>\n",
              "  "
            ],
            "text/plain": [
              "<IPython.core.display.HTML object>"
            ]
          },
          "metadata": {},
          "output_type": "display_data"
        },
        {
          "data": {
            "text/html": [
              "\n",
              "  <style>\n",
              "    pre {\n",
              "        white-space: pre-wrap;\n",
              "    }\n",
              "  </style>\n",
              "  "
            ],
            "text/plain": [
              "<IPython.core.display.HTML object>"
            ]
          },
          "metadata": {},
          "output_type": "display_data"
        },
        {
          "name": "stdout",
          "output_type": "stream",
          "text": [
            "views of videos in dataset count    7.712700e+04\n",
            "mean     1.525633e+05\n",
            "std      1.363441e+06\n",
            "min      1.000000e+00\n",
            "25%      2.945000e+03\n",
            "50%      1.109900e+04\n",
            "75%      5.864800e+04\n",
            "max      2.230419e+08\n",
            "Name: views, dtype: float64\n"
          ]
        }
      ],
      "source": [
        "print(\"views of videos in dataset\\n\",data[data['type'] == 'Video']['views'][data['views'] >= 0].describe())\n",
        "mean_pos_views = int(data[data['type'] == 'Video']['views'][data['views'] >= 0].mean())\n",
        "# mean values as views as views of images and gifs\n",
        "data['views'] = data['views'].replace(-1, mean_pos_views).astype(int)"
      ]
    },
    {
      "cell_type": "code",
      "execution_count": null,
      "metadata": {
        "colab": {
          "base_uri": "https://localhost:8080/",
          "height": 17
        },
        "id": "oiZtsE6Y7nJe",
        "outputId": "6e314504-50c3-4d4e-8890-8ba46b9f7ce6"
      },
      "outputs": [
        {
          "data": {
            "text/html": [
              "\n",
              "  <style>\n",
              "    pre {\n",
              "        white-space: pre-wrap;\n",
              "    }\n",
              "  </style>\n",
              "  "
            ],
            "text/plain": [
              "<IPython.core.display.HTML object>"
            ]
          },
          "metadata": {},
          "output_type": "display_data"
        },
        {
          "data": {
            "text/html": [
              "\n",
              "  <style>\n",
              "    pre {\n",
              "        white-space: pre-wrap;\n",
              "    }\n",
              "  </style>\n",
              "  "
            ],
            "text/plain": [
              "<IPython.core.display.HTML object>"
            ]
          },
          "metadata": {},
          "output_type": "display_data"
        }
      ],
      "source": [
        "data['date'] = pd.to_datetime(data['date']).dt.date.astype(str)"
      ]
    },
    {
      "cell_type": "code",
      "execution_count": null,
      "metadata": {
        "colab": {
          "base_uri": "https://localhost:8080/",
          "height": 310
        },
        "id": "0vhYbyoP8sSw",
        "outputId": "2f8606de-cce9-4075-c725-b1309ec394ab"
      },
      "outputs": [
        {
          "data": {
            "text/html": [
              "\n",
              "  <style>\n",
              "    pre {\n",
              "        white-space: pre-wrap;\n",
              "    }\n",
              "  </style>\n",
              "  "
            ],
            "text/plain": [
              "<IPython.core.display.HTML object>"
            ]
          },
          "metadata": {},
          "output_type": "display_data"
        },
        {
          "data": {
            "text/html": [
              "\n",
              "  <style>\n",
              "    pre {\n",
              "        white-space: pre-wrap;\n",
              "    }\n",
              "  </style>\n",
              "  "
            ],
            "text/plain": [
              "<IPython.core.display.HTML object>"
            ]
          },
          "metadata": {},
          "output_type": "display_data"
        },
        {
          "data": {
            "text/html": [
              "\n",
              "  <div id=\"df-cbb589ba-cbb2-4c82-89b4-0eb1e04a427e\" class=\"colab-df-container\">\n",
              "    <div>\n",
              "<style scoped>\n",
              "    .dataframe tbody tr th:only-of-type {\n",
              "        vertical-align: middle;\n",
              "    }\n",
              "\n",
              "    .dataframe tbody tr th {\n",
              "        vertical-align: top;\n",
              "    }\n",
              "\n",
              "    .dataframe thead th {\n",
              "        text-align: right;\n",
              "    }\n",
              "</style>\n",
              "<table border=\"1\" class=\"dataframe\">\n",
              "  <thead>\n",
              "    <tr style=\"text-align: right;\">\n",
              "      <th></th>\n",
              "      <th>id</th>\n",
              "      <th>date</th>\n",
              "      <th>likes</th>\n",
              "      <th>content</th>\n",
              "      <th>username</th>\n",
              "      <th>inferred company</th>\n",
              "      <th>type</th>\n",
              "      <th>url</th>\n",
              "      <th>duration</th>\n",
              "      <th>views</th>\n",
              "    </tr>\n",
              "  </thead>\n",
              "  <tbody>\n",
              "    <tr>\n",
              "      <th>188965</th>\n",
              "      <td>188966</td>\n",
              "      <td>2018-06-20</td>\n",
              "      <td>729</td>\n",
              "      <td>watch the 19-year-old royal wedding cellist pl...</td>\n",
              "      <td>CNN</td>\n",
              "      <td>cnn</td>\n",
              "      <td>Video</td>\n",
              "      <td>https://video.twimg.com/amplify_video/10091066...</td>\n",
              "      <td>94</td>\n",
              "      <td>61264</td>\n",
              "    </tr>\n",
              "    <tr>\n",
              "      <th>196580</th>\n",
              "      <td>196581</td>\n",
              "      <td>2020-01-17</td>\n",
              "      <td>33</td>\n",
              "      <td>introducing smarter security. it's human natur...</td>\n",
              "      <td>BlackBerry</td>\n",
              "      <td>blackberry</td>\n",
              "      <td>Photo</td>\n",
              "      <td>https://pbs.twimg.com/media/EOgHJOfX0AALhUs?fo...</td>\n",
              "      <td>1</td>\n",
              "      <td>152563</td>\n",
              "    </tr>\n",
              "    <tr>\n",
              "      <th>37019</th>\n",
              "      <td>37020</td>\n",
              "      <td>2019-02-26</td>\n",
              "      <td>676</td>\n",
              "      <td>kicking off the second week of testing with be...</td>\n",
              "      <td>WilliamsRacing</td>\n",
              "      <td>williams</td>\n",
              "      <td>Photo</td>\n",
              "      <td>https://pbs.twimg.com/media/D0UUPGEW0AEe2V-?fo...</td>\n",
              "      <td>1</td>\n",
              "      <td>152563</td>\n",
              "    </tr>\n",
              "    <tr>\n",
              "      <th>165720</th>\n",
              "      <td>165721</td>\n",
              "      <td>2020-07-09</td>\n",
              "      <td>1</td>\n",
              "      <td>most efficient #opelastra of all time, with th...</td>\n",
              "      <td>OpelIreland</td>\n",
              "      <td>opel</td>\n",
              "      <td>Video</td>\n",
              "      <td>https://video.twimg.com/amplify_video/12812336...</td>\n",
              "      <td>9</td>\n",
              "      <td>37</td>\n",
              "    </tr>\n",
              "    <tr>\n",
              "      <th>286771</th>\n",
              "      <td>286772</td>\n",
              "      <td>2020-05-07</td>\n",
              "      <td>1</td>\n",
              "      <td>covid-19: wear face mask or risk 14 days isola...</td>\n",
              "      <td>IndependentNGR</td>\n",
              "      <td>independent</td>\n",
              "      <td>Photo</td>\n",
              "      <td>https://pbs.twimg.com/media/EXaaGjfU8AAQGgE?fo...</td>\n",
              "      <td>1</td>\n",
              "      <td>152563</td>\n",
              "    </tr>\n",
              "  </tbody>\n",
              "</table>\n",
              "</div>\n",
              "    <div class=\"colab-df-buttons\">\n",
              "\n",
              "  <div class=\"colab-df-container\">\n",
              "    <button class=\"colab-df-convert\" onclick=\"convertToInteractive('df-cbb589ba-cbb2-4c82-89b4-0eb1e04a427e')\"\n",
              "            title=\"Convert this dataframe to an interactive table.\"\n",
              "            style=\"display:none;\">\n",
              "\n",
              "  <svg xmlns=\"http://www.w3.org/2000/svg\" height=\"24px\" viewBox=\"0 -960 960 960\">\n",
              "    <path d=\"M120-120v-720h720v720H120Zm60-500h600v-160H180v160Zm220 220h160v-160H400v160Zm0 220h160v-160H400v160ZM180-400h160v-160H180v160Zm440 0h160v-160H620v160ZM180-180h160v-160H180v160Zm440 0h160v-160H620v160Z\"/>\n",
              "  </svg>\n",
              "    </button>\n",
              "\n",
              "  <style>\n",
              "    .colab-df-container {\n",
              "      display:flex;\n",
              "      gap: 12px;\n",
              "    }\n",
              "\n",
              "    .colab-df-convert {\n",
              "      background-color: #E8F0FE;\n",
              "      border: none;\n",
              "      border-radius: 50%;\n",
              "      cursor: pointer;\n",
              "      display: none;\n",
              "      fill: #1967D2;\n",
              "      height: 32px;\n",
              "      padding: 0 0 0 0;\n",
              "      width: 32px;\n",
              "    }\n",
              "\n",
              "    .colab-df-convert:hover {\n",
              "      background-color: #E2EBFA;\n",
              "      box-shadow: 0px 1px 2px rgba(60, 64, 67, 0.3), 0px 1px 3px 1px rgba(60, 64, 67, 0.15);\n",
              "      fill: #174EA6;\n",
              "    }\n",
              "\n",
              "    .colab-df-buttons div {\n",
              "      margin-bottom: 4px;\n",
              "    }\n",
              "\n",
              "    [theme=dark] .colab-df-convert {\n",
              "      background-color: #3B4455;\n",
              "      fill: #D2E3FC;\n",
              "    }\n",
              "\n",
              "    [theme=dark] .colab-df-convert:hover {\n",
              "      background-color: #434B5C;\n",
              "      box-shadow: 0px 1px 3px 1px rgba(0, 0, 0, 0.15);\n",
              "      filter: drop-shadow(0px 1px 2px rgba(0, 0, 0, 0.3));\n",
              "      fill: #FFFFFF;\n",
              "    }\n",
              "  </style>\n",
              "\n",
              "    <script>\n",
              "      const buttonEl =\n",
              "        document.querySelector('#df-cbb589ba-cbb2-4c82-89b4-0eb1e04a427e button.colab-df-convert');\n",
              "      buttonEl.style.display =\n",
              "        google.colab.kernel.accessAllowed ? 'block' : 'none';\n",
              "\n",
              "      async function convertToInteractive(key) {\n",
              "        const element = document.querySelector('#df-cbb589ba-cbb2-4c82-89b4-0eb1e04a427e');\n",
              "        const dataTable =\n",
              "          await google.colab.kernel.invokeFunction('convertToInteractive',\n",
              "                                                    [key], {});\n",
              "        if (!dataTable) return;\n",
              "\n",
              "        const docLinkHtml = 'Like what you see? Visit the ' +\n",
              "          '<a target=\"_blank\" href=https://colab.research.google.com/notebooks/data_table.ipynb>data table notebook</a>'\n",
              "          + ' to learn more about interactive tables.';\n",
              "        element.innerHTML = '';\n",
              "        dataTable['output_type'] = 'display_data';\n",
              "        await google.colab.output.renderOutput(dataTable, element);\n",
              "        const docLink = document.createElement('div');\n",
              "        docLink.innerHTML = docLinkHtml;\n",
              "        element.appendChild(docLink);\n",
              "      }\n",
              "    </script>\n",
              "  </div>\n",
              "\n",
              "\n",
              "<div id=\"df-b35b0b2f-b58c-48f6-a12d-23cdf028f2c2\">\n",
              "  <button class=\"colab-df-quickchart\" onclick=\"quickchart('df-b35b0b2f-b58c-48f6-a12d-23cdf028f2c2')\"\n",
              "            title=\"Suggest charts\"\n",
              "            style=\"display:none;\">\n",
              "\n",
              "<svg xmlns=\"http://www.w3.org/2000/svg\" height=\"24px\"viewBox=\"0 0 24 24\"\n",
              "     width=\"24px\">\n",
              "    <g>\n",
              "        <path d=\"M19 3H5c-1.1 0-2 .9-2 2v14c0 1.1.9 2 2 2h14c1.1 0 2-.9 2-2V5c0-1.1-.9-2-2-2zM9 17H7v-7h2v7zm4 0h-2V7h2v10zm4 0h-2v-4h2v4z\"/>\n",
              "    </g>\n",
              "</svg>\n",
              "  </button>\n",
              "\n",
              "<style>\n",
              "  .colab-df-quickchart {\n",
              "      --bg-color: #E8F0FE;\n",
              "      --fill-color: #1967D2;\n",
              "      --hover-bg-color: #E2EBFA;\n",
              "      --hover-fill-color: #174EA6;\n",
              "      --disabled-fill-color: #AAA;\n",
              "      --disabled-bg-color: #DDD;\n",
              "  }\n",
              "\n",
              "  [theme=dark] .colab-df-quickchart {\n",
              "      --bg-color: #3B4455;\n",
              "      --fill-color: #D2E3FC;\n",
              "      --hover-bg-color: #434B5C;\n",
              "      --hover-fill-color: #FFFFFF;\n",
              "      --disabled-bg-color: #3B4455;\n",
              "      --disabled-fill-color: #666;\n",
              "  }\n",
              "\n",
              "  .colab-df-quickchart {\n",
              "    background-color: var(--bg-color);\n",
              "    border: none;\n",
              "    border-radius: 50%;\n",
              "    cursor: pointer;\n",
              "    display: none;\n",
              "    fill: var(--fill-color);\n",
              "    height: 32px;\n",
              "    padding: 0;\n",
              "    width: 32px;\n",
              "  }\n",
              "\n",
              "  .colab-df-quickchart:hover {\n",
              "    background-color: var(--hover-bg-color);\n",
              "    box-shadow: 0 1px 2px rgba(60, 64, 67, 0.3), 0 1px 3px 1px rgba(60, 64, 67, 0.15);\n",
              "    fill: var(--button-hover-fill-color);\n",
              "  }\n",
              "\n",
              "  .colab-df-quickchart-complete:disabled,\n",
              "  .colab-df-quickchart-complete:disabled:hover {\n",
              "    background-color: var(--disabled-bg-color);\n",
              "    fill: var(--disabled-fill-color);\n",
              "    box-shadow: none;\n",
              "  }\n",
              "\n",
              "  .colab-df-spinner {\n",
              "    border: 2px solid var(--fill-color);\n",
              "    border-color: transparent;\n",
              "    border-bottom-color: var(--fill-color);\n",
              "    animation:\n",
              "      spin 1s steps(1) infinite;\n",
              "  }\n",
              "\n",
              "  @keyframes spin {\n",
              "    0% {\n",
              "      border-color: transparent;\n",
              "      border-bottom-color: var(--fill-color);\n",
              "      border-left-color: var(--fill-color);\n",
              "    }\n",
              "    20% {\n",
              "      border-color: transparent;\n",
              "      border-left-color: var(--fill-color);\n",
              "      border-top-color: var(--fill-color);\n",
              "    }\n",
              "    30% {\n",
              "      border-color: transparent;\n",
              "      border-left-color: var(--fill-color);\n",
              "      border-top-color: var(--fill-color);\n",
              "      border-right-color: var(--fill-color);\n",
              "    }\n",
              "    40% {\n",
              "      border-color: transparent;\n",
              "      border-right-color: var(--fill-color);\n",
              "      border-top-color: var(--fill-color);\n",
              "    }\n",
              "    60% {\n",
              "      border-color: transparent;\n",
              "      border-right-color: var(--fill-color);\n",
              "    }\n",
              "    80% {\n",
              "      border-color: transparent;\n",
              "      border-right-color: var(--fill-color);\n",
              "      border-bottom-color: var(--fill-color);\n",
              "    }\n",
              "    90% {\n",
              "      border-color: transparent;\n",
              "      border-bottom-color: var(--fill-color);\n",
              "    }\n",
              "  }\n",
              "</style>\n",
              "\n",
              "  <script>\n",
              "    async function quickchart(key) {\n",
              "      const quickchartButtonEl =\n",
              "        document.querySelector('#' + key + ' button');\n",
              "      quickchartButtonEl.disabled = true;  // To prevent multiple clicks.\n",
              "      quickchartButtonEl.classList.add('colab-df-spinner');\n",
              "      try {\n",
              "        const charts = await google.colab.kernel.invokeFunction(\n",
              "            'suggestCharts', [key], {});\n",
              "      } catch (error) {\n",
              "        console.error('Error during call to suggestCharts:', error);\n",
              "      }\n",
              "      quickchartButtonEl.classList.remove('colab-df-spinner');\n",
              "      quickchartButtonEl.classList.add('colab-df-quickchart-complete');\n",
              "    }\n",
              "    (() => {\n",
              "      let quickchartButtonEl =\n",
              "        document.querySelector('#df-b35b0b2f-b58c-48f6-a12d-23cdf028f2c2 button');\n",
              "      quickchartButtonEl.style.display =\n",
              "        google.colab.kernel.accessAllowed ? 'block' : 'none';\n",
              "    })();\n",
              "  </script>\n",
              "</div>\n",
              "\n",
              "    </div>\n",
              "  </div>\n"
            ],
            "text/plain": [
              "            id        date  likes  \\\n",
              "188965  188966  2018-06-20    729   \n",
              "196580  196581  2020-01-17     33   \n",
              "37019    37020  2019-02-26    676   \n",
              "165720  165721  2020-07-09      1   \n",
              "286771  286772  2020-05-07      1   \n",
              "\n",
              "                                                  content        username  \\\n",
              "188965  watch the 19-year-old royal wedding cellist pl...             CNN   \n",
              "196580  introducing smarter security. it's human natur...      BlackBerry   \n",
              "37019   kicking off the second week of testing with be...  WilliamsRacing   \n",
              "165720  most efficient #opelastra of all time, with th...     OpelIreland   \n",
              "286771  covid-19: wear face mask or risk 14 days isola...  IndependentNGR   \n",
              "\n",
              "       inferred company   type  \\\n",
              "188965              cnn  Video   \n",
              "196580       blackberry  Photo   \n",
              "37019          williams  Photo   \n",
              "165720             opel  Video   \n",
              "286771      independent  Photo   \n",
              "\n",
              "                                                      url  duration   views  \n",
              "188965  https://video.twimg.com/amplify_video/10091066...        94   61264  \n",
              "196580  https://pbs.twimg.com/media/EOgHJOfX0AALhUs?fo...         1  152563  \n",
              "37019   https://pbs.twimg.com/media/D0UUPGEW0AEe2V-?fo...         1  152563  \n",
              "165720  https://video.twimg.com/amplify_video/12812336...         9      37  \n",
              "286771  https://pbs.twimg.com/media/EXaaGjfU8AAQGgE?fo...         1  152563  "
            ]
          },
          "execution_count": 49,
          "metadata": {},
          "output_type": "execute_result"
        }
      ],
      "source": [
        "data.sample(5)"
      ]
    },
    {
      "cell_type": "code",
      "execution_count": null,
      "metadata": {
        "colab": {
          "base_uri": "https://localhost:8080/",
          "height": 17
        },
        "id": "KmOze2et9HQX",
        "outputId": "ad1176c5-3e8c-466f-f418-837f381e2fe4"
      },
      "outputs": [
        {
          "data": {
            "text/html": [
              "\n",
              "  <style>\n",
              "    pre {\n",
              "        white-space: pre-wrap;\n",
              "    }\n",
              "  </style>\n",
              "  "
            ],
            "text/plain": [
              "<IPython.core.display.HTML object>"
            ]
          },
          "metadata": {},
          "output_type": "display_data"
        },
        {
          "data": {
            "text/html": [
              "\n",
              "  <style>\n",
              "    pre {\n",
              "        white-space: pre-wrap;\n",
              "    }\n",
              "  </style>\n",
              "  "
            ],
            "text/plain": [
              "<IPython.core.display.HTML object>"
            ]
          },
          "metadata": {},
          "output_type": "display_data"
        }
      ],
      "source": [
        "data.to_csv('train_clean.csv')"
      ]
    },
    {
      "cell_type": "code",
      "execution_count": null,
      "metadata": {
        "colab": {
          "base_uri": "https://localhost:8080/",
          "height": 35
        },
        "id": "32lDKEGfFpOK",
        "outputId": "2d1d410a-a63d-4617-b680-e1b06095865c"
      },
      "outputs": [
        {
          "data": {
            "text/html": [
              "\n",
              "  <style>\n",
              "    pre {\n",
              "        white-space: pre-wrap;\n",
              "    }\n",
              "  </style>\n",
              "  "
            ],
            "text/plain": [
              "<IPython.core.display.HTML object>"
            ]
          },
          "metadata": {},
          "output_type": "display_data"
        },
        {
          "data": {
            "text/html": [
              "\n",
              "  <style>\n",
              "    pre {\n",
              "        white-space: pre-wrap;\n",
              "    }\n",
              "  </style>\n",
              "  "
            ],
            "text/plain": [
              "<IPython.core.display.HTML object>"
            ]
          },
          "metadata": {},
          "output_type": "display_data"
        },
        {
          "name": "stdout",
          "output_type": "stream",
          "text": [
            "Mounted at /content/drive\n"
          ]
        }
      ],
      "source": [
        "from google.colab import drive\n",
        "drive.mount('/content/drive')\n",
        "!cp train_clean.csv /content/drive/MyDrive"
      ]
    },
    {
      "cell_type": "markdown",
      "metadata": {
        "id": "dgGDPsfYBDWR"
      },
      "source": [
        "# test data preprocessing"
      ]
    },
    {
      "cell_type": "code",
      "execution_count": null,
      "metadata": {
        "colab": {
          "base_uri": "https://localhost:8080/",
          "height": 295
        },
        "id": "j2NZ3VWWHDpd",
        "outputId": "d502f466-77d1-438a-f806-750e64ad4abe"
      },
      "outputs": [],
      "source": [
        "!gdown link/to/test/files\n",
        "!gdown link/to/test/files\n",
        "!gdown link/to/test/files\n",
        "!gdown link/to/test/files"
      ]
    },
    {
      "cell_type": "code",
      "execution_count": null,
      "metadata": {
        "colab": {
          "base_uri": "https://localhost:8080/",
          "height": 17
        },
        "id": "AFuVwFugDT5e",
        "outputId": "e24b7348-e8c9-4e97-fae1-1c554edab238"
      },
      "outputs": [
        {
          "data": {
            "text/html": [
              "\n",
              "  <style>\n",
              "    pre {\n",
              "        white-space: pre-wrap;\n",
              "    }\n",
              "  </style>\n",
              "  "
            ],
            "text/plain": [
              "<IPython.core.display.HTML object>"
            ]
          },
          "metadata": {},
          "output_type": "display_data"
        }
      ],
      "source": [
        "behaviour_simulation_test_company = pd.read_excel(\"behaviour_simulation_test_company.xlsx\")\n",
        "behaviour_simulation_test_time = pd.read_excel(\"behaviour_simulation_test_time.xlsx\")\n",
        "content_simulation_test_time = pd.read_excel(\"content_simulation_test_time.xlsx\")\n",
        "content_simulation_test_company = pd.read_excel(\"content_simulation_test_company.xlsx\")"
      ]
    },
    {
      "cell_type": "code",
      "execution_count": null,
      "metadata": {
        "colab": {
          "base_uri": "https://localhost:8080/",
          "height": 206
        },
        "id": "dpMWH00oE498",
        "outputId": "cad74036-3143-41a0-8600-c9bb5af283f4"
      },
      "outputs": [
        {
          "data": {
            "text/html": [
              "\n",
              "  <style>\n",
              "    pre {\n",
              "        white-space: pre-wrap;\n",
              "    }\n",
              "  </style>\n",
              "  "
            ],
            "text/plain": [
              "<IPython.core.display.HTML object>"
            ]
          },
          "metadata": {},
          "output_type": "display_data"
        },
        {
          "data": {
            "text/html": [
              "\n",
              "  <div id=\"df-876d8d39-2771-418a-b91f-888040ff5245\" class=\"colab-df-container\">\n",
              "    <div>\n",
              "<style scoped>\n",
              "    .dataframe tbody tr th:only-of-type {\n",
              "        vertical-align: middle;\n",
              "    }\n",
              "\n",
              "    .dataframe tbody tr th {\n",
              "        vertical-align: top;\n",
              "    }\n",
              "\n",
              "    .dataframe thead th {\n",
              "        text-align: right;\n",
              "    }\n",
              "</style>\n",
              "<table border=\"1\" class=\"dataframe\">\n",
              "  <thead>\n",
              "    <tr style=\"text-align: right;\">\n",
              "      <th></th>\n",
              "      <th>id</th>\n",
              "      <th>date</th>\n",
              "      <th>likes</th>\n",
              "      <th>username</th>\n",
              "      <th>media</th>\n",
              "      <th>inferred company</th>\n",
              "    </tr>\n",
              "  </thead>\n",
              "  <tbody>\n",
              "    <tr>\n",
              "      <th>0</th>\n",
              "      <td>1</td>\n",
              "      <td>2019-05-10 11:44:04</td>\n",
              "      <td>2</td>\n",
              "      <td>UPMCnews</td>\n",
              "      <td>[Photo(previewUrl='https://pbs.twimg.com/media...</td>\n",
              "      <td>upmc</td>\n",
              "    </tr>\n",
              "    <tr>\n",
              "      <th>1</th>\n",
              "      <td>2</td>\n",
              "      <td>2019-09-03 14:00:01</td>\n",
              "      <td>1</td>\n",
              "      <td>rbcgamnews</td>\n",
              "      <td>[Photo(previewUrl='https://pbs.twimg.com/media...</td>\n",
              "      <td>rbc</td>\n",
              "    </tr>\n",
              "    <tr>\n",
              "      <th>2</th>\n",
              "      <td>3</td>\n",
              "      <td>2018-12-02 05:51:16</td>\n",
              "      <td>502</td>\n",
              "      <td>BBCSport</td>\n",
              "      <td>[Photo(previewUrl='https://pbs.twimg.com/media...</td>\n",
              "      <td>bbc</td>\n",
              "    </tr>\n",
              "    <tr>\n",
              "      <th>3</th>\n",
              "      <td>4</td>\n",
              "      <td>2018-08-04 20:03:17</td>\n",
              "      <td>151</td>\n",
              "      <td>BBCSport</td>\n",
              "      <td>[Photo(previewUrl='https://pbs.twimg.com/media...</td>\n",
              "      <td>bbc</td>\n",
              "    </tr>\n",
              "    <tr>\n",
              "      <th>4</th>\n",
              "      <td>5</td>\n",
              "      <td>2019-02-11 04:29:29</td>\n",
              "      <td>362</td>\n",
              "      <td>uclagymnastics</td>\n",
              "      <td>[Photo(previewUrl='https://pbs.twimg.com/media...</td>\n",
              "      <td>ucla</td>\n",
              "    </tr>\n",
              "  </tbody>\n",
              "</table>\n",
              "</div>\n",
              "    <div class=\"colab-df-buttons\">\n",
              "\n",
              "  <div class=\"colab-df-container\">\n",
              "    <button class=\"colab-df-convert\" onclick=\"convertToInteractive('df-876d8d39-2771-418a-b91f-888040ff5245')\"\n",
              "            title=\"Convert this dataframe to an interactive table.\"\n",
              "            style=\"display:none;\">\n",
              "\n",
              "  <svg xmlns=\"http://www.w3.org/2000/svg\" height=\"24px\" viewBox=\"0 -960 960 960\">\n",
              "    <path d=\"M120-120v-720h720v720H120Zm60-500h600v-160H180v160Zm220 220h160v-160H400v160Zm0 220h160v-160H400v160ZM180-400h160v-160H180v160Zm440 0h160v-160H620v160ZM180-180h160v-160H180v160Zm440 0h160v-160H620v160Z\"/>\n",
              "  </svg>\n",
              "    </button>\n",
              "\n",
              "  <style>\n",
              "    .colab-df-container {\n",
              "      display:flex;\n",
              "      gap: 12px;\n",
              "    }\n",
              "\n",
              "    .colab-df-convert {\n",
              "      background-color: #E8F0FE;\n",
              "      border: none;\n",
              "      border-radius: 50%;\n",
              "      cursor: pointer;\n",
              "      display: none;\n",
              "      fill: #1967D2;\n",
              "      height: 32px;\n",
              "      padding: 0 0 0 0;\n",
              "      width: 32px;\n",
              "    }\n",
              "\n",
              "    .colab-df-convert:hover {\n",
              "      background-color: #E2EBFA;\n",
              "      box-shadow: 0px 1px 2px rgba(60, 64, 67, 0.3), 0px 1px 3px 1px rgba(60, 64, 67, 0.15);\n",
              "      fill: #174EA6;\n",
              "    }\n",
              "\n",
              "    .colab-df-buttons div {\n",
              "      margin-bottom: 4px;\n",
              "    }\n",
              "\n",
              "    [theme=dark] .colab-df-convert {\n",
              "      background-color: #3B4455;\n",
              "      fill: #D2E3FC;\n",
              "    }\n",
              "\n",
              "    [theme=dark] .colab-df-convert:hover {\n",
              "      background-color: #434B5C;\n",
              "      box-shadow: 0px 1px 3px 1px rgba(0, 0, 0, 0.15);\n",
              "      filter: drop-shadow(0px 1px 2px rgba(0, 0, 0, 0.3));\n",
              "      fill: #FFFFFF;\n",
              "    }\n",
              "  </style>\n",
              "\n",
              "    <script>\n",
              "      const buttonEl =\n",
              "        document.querySelector('#df-876d8d39-2771-418a-b91f-888040ff5245 button.colab-df-convert');\n",
              "      buttonEl.style.display =\n",
              "        google.colab.kernel.accessAllowed ? 'block' : 'none';\n",
              "\n",
              "      async function convertToInteractive(key) {\n",
              "        const element = document.querySelector('#df-876d8d39-2771-418a-b91f-888040ff5245');\n",
              "        const dataTable =\n",
              "          await google.colab.kernel.invokeFunction('convertToInteractive',\n",
              "                                                    [key], {});\n",
              "        if (!dataTable) return;\n",
              "\n",
              "        const docLinkHtml = 'Like what you see? Visit the ' +\n",
              "          '<a target=\"_blank\" href=https://colab.research.google.com/notebooks/data_table.ipynb>data table notebook</a>'\n",
              "          + ' to learn more about interactive tables.';\n",
              "        element.innerHTML = '';\n",
              "        dataTable['output_type'] = 'display_data';\n",
              "        await google.colab.output.renderOutput(dataTable, element);\n",
              "        const docLink = document.createElement('div');\n",
              "        docLink.innerHTML = docLinkHtml;\n",
              "        element.appendChild(docLink);\n",
              "      }\n",
              "    </script>\n",
              "  </div>\n",
              "\n",
              "\n",
              "<div id=\"df-ac3ecbe1-04c9-4f92-8504-86b281aa0f5b\">\n",
              "  <button class=\"colab-df-quickchart\" onclick=\"quickchart('df-ac3ecbe1-04c9-4f92-8504-86b281aa0f5b')\"\n",
              "            title=\"Suggest charts\"\n",
              "            style=\"display:none;\">\n",
              "\n",
              "<svg xmlns=\"http://www.w3.org/2000/svg\" height=\"24px\"viewBox=\"0 0 24 24\"\n",
              "     width=\"24px\">\n",
              "    <g>\n",
              "        <path d=\"M19 3H5c-1.1 0-2 .9-2 2v14c0 1.1.9 2 2 2h14c1.1 0 2-.9 2-2V5c0-1.1-.9-2-2-2zM9 17H7v-7h2v7zm4 0h-2V7h2v10zm4 0h-2v-4h2v4z\"/>\n",
              "    </g>\n",
              "</svg>\n",
              "  </button>\n",
              "\n",
              "<style>\n",
              "  .colab-df-quickchart {\n",
              "      --bg-color: #E8F0FE;\n",
              "      --fill-color: #1967D2;\n",
              "      --hover-bg-color: #E2EBFA;\n",
              "      --hover-fill-color: #174EA6;\n",
              "      --disabled-fill-color: #AAA;\n",
              "      --disabled-bg-color: #DDD;\n",
              "  }\n",
              "\n",
              "  [theme=dark] .colab-df-quickchart {\n",
              "      --bg-color: #3B4455;\n",
              "      --fill-color: #D2E3FC;\n",
              "      --hover-bg-color: #434B5C;\n",
              "      --hover-fill-color: #FFFFFF;\n",
              "      --disabled-bg-color: #3B4455;\n",
              "      --disabled-fill-color: #666;\n",
              "  }\n",
              "\n",
              "  .colab-df-quickchart {\n",
              "    background-color: var(--bg-color);\n",
              "    border: none;\n",
              "    border-radius: 50%;\n",
              "    cursor: pointer;\n",
              "    display: none;\n",
              "    fill: var(--fill-color);\n",
              "    height: 32px;\n",
              "    padding: 0;\n",
              "    width: 32px;\n",
              "  }\n",
              "\n",
              "  .colab-df-quickchart:hover {\n",
              "    background-color: var(--hover-bg-color);\n",
              "    box-shadow: 0 1px 2px rgba(60, 64, 67, 0.3), 0 1px 3px 1px rgba(60, 64, 67, 0.15);\n",
              "    fill: var(--button-hover-fill-color);\n",
              "  }\n",
              "\n",
              "  .colab-df-quickchart-complete:disabled,\n",
              "  .colab-df-quickchart-complete:disabled:hover {\n",
              "    background-color: var(--disabled-bg-color);\n",
              "    fill: var(--disabled-fill-color);\n",
              "    box-shadow: none;\n",
              "  }\n",
              "\n",
              "  .colab-df-spinner {\n",
              "    border: 2px solid var(--fill-color);\n",
              "    border-color: transparent;\n",
              "    border-bottom-color: var(--fill-color);\n",
              "    animation:\n",
              "      spin 1s steps(1) infinite;\n",
              "  }\n",
              "\n",
              "  @keyframes spin {\n",
              "    0% {\n",
              "      border-color: transparent;\n",
              "      border-bottom-color: var(--fill-color);\n",
              "      border-left-color: var(--fill-color);\n",
              "    }\n",
              "    20% {\n",
              "      border-color: transparent;\n",
              "      border-left-color: var(--fill-color);\n",
              "      border-top-color: var(--fill-color);\n",
              "    }\n",
              "    30% {\n",
              "      border-color: transparent;\n",
              "      border-left-color: var(--fill-color);\n",
              "      border-top-color: var(--fill-color);\n",
              "      border-right-color: var(--fill-color);\n",
              "    }\n",
              "    40% {\n",
              "      border-color: transparent;\n",
              "      border-right-color: var(--fill-color);\n",
              "      border-top-color: var(--fill-color);\n",
              "    }\n",
              "    60% {\n",
              "      border-color: transparent;\n",
              "      border-right-color: var(--fill-color);\n",
              "    }\n",
              "    80% {\n",
              "      border-color: transparent;\n",
              "      border-right-color: var(--fill-color);\n",
              "      border-bottom-color: var(--fill-color);\n",
              "    }\n",
              "    90% {\n",
              "      border-color: transparent;\n",
              "      border-bottom-color: var(--fill-color);\n",
              "    }\n",
              "  }\n",
              "</style>\n",
              "\n",
              "  <script>\n",
              "    async function quickchart(key) {\n",
              "      const quickchartButtonEl =\n",
              "        document.querySelector('#' + key + ' button');\n",
              "      quickchartButtonEl.disabled = true;  // To prevent multiple clicks.\n",
              "      quickchartButtonEl.classList.add('colab-df-spinner');\n",
              "      try {\n",
              "        const charts = await google.colab.kernel.invokeFunction(\n",
              "            'suggestCharts', [key], {});\n",
              "      } catch (error) {\n",
              "        console.error('Error during call to suggestCharts:', error);\n",
              "      }\n",
              "      quickchartButtonEl.classList.remove('colab-df-spinner');\n",
              "      quickchartButtonEl.classList.add('colab-df-quickchart-complete');\n",
              "    }\n",
              "    (() => {\n",
              "      let quickchartButtonEl =\n",
              "        document.querySelector('#df-ac3ecbe1-04c9-4f92-8504-86b281aa0f5b button');\n",
              "      quickchartButtonEl.style.display =\n",
              "        google.colab.kernel.accessAllowed ? 'block' : 'none';\n",
              "    })();\n",
              "  </script>\n",
              "</div>\n",
              "\n",
              "    </div>\n",
              "  </div>\n"
            ],
            "text/plain": [
              "   id                 date  likes        username  \\\n",
              "0   1  2019-05-10 11:44:04      2        UPMCnews   \n",
              "1   2  2019-09-03 14:00:01      1      rbcgamnews   \n",
              "2   3  2018-12-02 05:51:16    502        BBCSport   \n",
              "3   4  2018-08-04 20:03:17    151        BBCSport   \n",
              "4   5  2019-02-11 04:29:29    362  uclagymnastics   \n",
              "\n",
              "                                               media inferred company  \n",
              "0  [Photo(previewUrl='https://pbs.twimg.com/media...             upmc  \n",
              "1  [Photo(previewUrl='https://pbs.twimg.com/media...              rbc  \n",
              "2  [Photo(previewUrl='https://pbs.twimg.com/media...              bbc  \n",
              "3  [Photo(previewUrl='https://pbs.twimg.com/media...              bbc  \n",
              "4  [Photo(previewUrl='https://pbs.twimg.com/media...             ucla  "
            ]
          },
          "execution_count": 28,
          "metadata": {},
          "output_type": "execute_result"
        }
      ],
      "source": [
        "# behaviour_simulation_test_company.head() # id date username content media ic\n",
        "# behaviour_simulation_test_time.head() # id date username content media ic\n",
        "# content_simulation_test_time.head() # no content\n",
        "content_simulation_test_company.head() # no content"
      ]
    },
    {
      "cell_type": "code",
      "execution_count": null,
      "metadata": {
        "colab": {
          "base_uri": "https://localhost:8080/",
          "height": 17
        },
        "id": "QZ_79P-LFvj0",
        "outputId": "b52b0864-2659-4891-f225-16580d0a2332"
      },
      "outputs": [
        {
          "data": {
            "text/html": [
              "\n",
              "  <style>\n",
              "    pre {\n",
              "        white-space: pre-wrap;\n",
              "    }\n",
              "  </style>\n",
              "  "
            ],
            "text/plain": [
              "<IPython.core.display.HTML object>"
            ]
          },
          "metadata": {},
          "output_type": "display_data"
        }
      ],
      "source": [
        "behaviour_simulation_test_company[['type', 'url', 'duration', 'views']] = behaviour_simulation_test_company['media'].apply(media_to_features).apply(pd.Series)\n",
        "behaviour_simulation_test_time[['type', 'url', 'duration', 'views']] = behaviour_simulation_test_time['media'].apply(media_to_features).apply(pd.Series)\n",
        "content_simulation_test_time[['type', 'url', 'duration', 'views']] = content_simulation_test_time['media'].apply(media_to_features).apply(pd.Series)\n",
        "content_simulation_test_company[['type', 'url', 'duration', 'views']] = content_simulation_test_company['media'].apply(media_to_features).apply(pd.Series)"
      ]
    },
    {
      "cell_type": "code",
      "execution_count": null,
      "metadata": {
        "colab": {
          "base_uri": "https://localhost:8080/",
          "height": 17
        },
        "id": "gaE8DKLBGVhu",
        "outputId": "52550cde-a897-420e-8db7-eb6c3af4038f"
      },
      "outputs": [
        {
          "data": {
            "text/html": [
              "\n",
              "  <style>\n",
              "    pre {\n",
              "        white-space: pre-wrap;\n",
              "    }\n",
              "  </style>\n",
              "  "
            ],
            "text/plain": [
              "<IPython.core.display.HTML object>"
            ]
          },
          "metadata": {},
          "output_type": "display_data"
        }
      ],
      "source": [
        "behaviour_simulation_test_company = behaviour_simulation_test_company.drop(['media'], axis = 1)\n",
        "behaviour_simulation_test_time = behaviour_simulation_test_time.drop(['media'], axis = 1)\n",
        "content_simulation_test_time = content_simulation_test_time.drop(['media'], axis = 1)\n",
        "content_simulation_test_company = content_simulation_test_company.drop(['media'], axis = 1)"
      ]
    },
    {
      "cell_type": "code",
      "execution_count": null,
      "metadata": {
        "colab": {
          "base_uri": "https://localhost:8080/",
          "height": 17
        },
        "id": "KLSGJWrhHDKT",
        "outputId": "8beb1b0c-ff60-41b7-bebe-0e852da7e31e"
      },
      "outputs": [
        {
          "data": {
            "text/html": [
              "\n",
              "  <style>\n",
              "    pre {\n",
              "        white-space: pre-wrap;\n",
              "    }\n",
              "  </style>\n",
              "  "
            ],
            "text/plain": [
              "<IPython.core.display.HTML object>"
            ]
          },
          "metadata": {},
          "output_type": "display_data"
        }
      ],
      "source": [
        "behaviour_simulation_test_company['content'] = behaviour_simulation_test_company['content'].apply(remove_emojis_and_tags)\n",
        "behaviour_simulation_test_time['content'] = behaviour_simulation_test_time['content'].apply(remove_emojis_and_tags)\n",
        "# content_simulation_test_time['content'] = content_simulation_test_time['content'].apply(remove_emojis_and_tags)\n",
        "# content_simulation_test_company['content'] = content_simulation_test_company['content'].apply(remove_emojis_and_tags)\n"
      ]
    },
    {
      "cell_type": "code",
      "execution_count": null,
      "metadata": {
        "colab": {
          "base_uri": "https://localhost:8080/",
          "height": 17
        },
        "id": "8lWt0b-oHwvk",
        "outputId": "c297d094-01b4-4be4-838e-5659481a49ee"
      },
      "outputs": [
        {
          "data": {
            "text/html": [
              "\n",
              "  <style>\n",
              "    pre {\n",
              "        white-space: pre-wrap;\n",
              "    }\n",
              "  </style>\n",
              "  "
            ],
            "text/plain": [
              "<IPython.core.display.HTML object>"
            ]
          },
          "metadata": {},
          "output_type": "display_data"
        }
      ],
      "source": [
        "behaviour_simulation_test_company['duration'] = behaviour_simulation_test_company['duration'].apply(lambda x: max(1, x)).astype(int)\n",
        "behaviour_simulation_test_time['duration'] = behaviour_simulation_test_time['duration'].apply(lambda x: max(1, x)).astype(int)\n",
        "content_simulation_test_time['duration'] = content_simulation_test_time['duration'].apply(lambda x: max(1, x)).astype(int)\n",
        "content_simulation_test_company['duration'] = content_simulation_test_company['duration'].apply(lambda x: max(1, x)).astype(int)\n",
        "\n",
        "mean_pos_views = 1.525633e+05 # from train\n",
        "# mean values as views as views of images and gifs\n",
        "behaviour_simulation_test_company['views'] = behaviour_simulation_test_company['views'].replace(-1, mean_pos_views).astype(int)\n",
        "behaviour_simulation_test_time['views'] = behaviour_simulation_test_time['views'].replace(-1, mean_pos_views).astype(int)\n",
        "content_simulation_test_time['views'] = content_simulation_test_time['views'].replace(-1, mean_pos_views).astype(int)\n",
        "content_simulation_test_company['views'] = content_simulation_test_company['views'].replace(-1, mean_pos_views).astype(int)"
      ]
    },
    {
      "cell_type": "code",
      "execution_count": null,
      "metadata": {
        "colab": {
          "base_uri": "https://localhost:8080/",
          "height": 17
        },
        "id": "UR8C2ws_KY5X",
        "outputId": "afd2a50e-d7f3-440b-b6e3-4eb17a82a0f5"
      },
      "outputs": [
        {
          "data": {
            "text/html": [
              "\n",
              "  <style>\n",
              "    pre {\n",
              "        white-space: pre-wrap;\n",
              "    }\n",
              "  </style>\n",
              "  "
            ],
            "text/plain": [
              "<IPython.core.display.HTML object>"
            ]
          },
          "metadata": {},
          "output_type": "display_data"
        }
      ],
      "source": [
        "behaviour_simulation_test_company['date'] = pd.to_datetime(behaviour_simulation_test_company['date']).dt.date.astype(str)\n",
        "behaviour_simulation_test_time['date'] = pd.to_datetime(behaviour_simulation_test_time['date']).dt.date.astype(str)\n",
        "content_simulation_test_time['date'] = pd.to_datetime(content_simulation_test_time['date']).dt.date.astype(str)\n",
        "content_simulation_test_company['date'] = pd.to_datetime(content_simulation_test_company['date']).dt.date.astype(str)"
      ]
    },
    {
      "cell_type": "code",
      "execution_count": null,
      "metadata": {
        "colab": {
          "base_uri": "https://localhost:8080/",
          "height": 17
        },
        "id": "wJpifNCsKfpB",
        "outputId": "986adeb8-21b6-4390-dbe6-9faad1ed1f4b"
      },
      "outputs": [
        {
          "data": {
            "text/html": [
              "\n",
              "  <style>\n",
              "    pre {\n",
              "        white-space: pre-wrap;\n",
              "    }\n",
              "  </style>\n",
              "  "
            ],
            "text/plain": [
              "<IPython.core.display.HTML object>"
            ]
          },
          "metadata": {},
          "output_type": "display_data"
        }
      ],
      "source": [
        "# behaviour_simulation_test_company.head() # id date username content media ic\n",
        "# behaviour_simulation_test_time.head() # id date username content media ic\n",
        "# content_simulation_test_time.head() # no content\n",
        "# content_simulation_test_company.head() # no content"
      ]
    },
    {
      "cell_type": "code",
      "execution_count": null,
      "metadata": {
        "colab": {
          "base_uri": "https://localhost:8080/",
          "height": 104
        },
        "id": "_M0xErXDHlLP",
        "outputId": "970e6044-4cc6-4dac-ac7a-6e8df1824345"
      },
      "outputs": [
        {
          "data": {
            "text/html": [
              "\n",
              "  <style>\n",
              "    pre {\n",
              "        white-space: pre-wrap;\n",
              "    }\n",
              "  </style>\n",
              "  "
            ],
            "text/plain": [
              "<IPython.core.display.HTML object>"
            ]
          },
          "metadata": {},
          "output_type": "display_data"
        },
        {
          "name": "stdout",
          "output_type": "stream",
          "text": [
            "Mounted at /content/drive\n",
            "cp: cannot stat 'behaviour_simulation_test_company.csv': No such file or directory\n",
            "cp: cannot stat 'behaviour_simulation_test_time.csv': No such file or directory\n",
            "cp: cannot stat 'content_simulation_test_time.csv': No such file or directory\n",
            "cp: cannot stat 'content_simulation_test_company.csv': No such file or directory\n"
          ]
        }
      ],
      "source": [
        "from google.colab import drive\n",
        "drive.mount('/content/drive')\n",
        "!cp behaviour_simulation_test_company.csv /content/drive/MyDrive/train_dataset\n",
        "!cp behaviour_simulation_test_time.csv /content/drive/MyDrive/train_dataset\n",
        "!cp content_simulation_test_time.csv /content/drive/MyDrive/train_dataset\n",
        "!cp content_simulation_test_company.csv /content/drive/MyDrive/train_dataset"
      ]
    },
    {
      "cell_type": "code",
      "execution_count": null,
      "metadata": {
        "id": "UkYdUA0BHkJX"
      },
      "outputs": [],
      "source": []
    }
  ],
  "metadata": {
    "colab": {
      "provenance": []
    },
    "kernelspec": {
      "display_name": "Python 3",
      "name": "python3"
    },
    "language_info": {
      "name": "python"
    }
  },
  "nbformat": 4,
  "nbformat_minor": 0
}
